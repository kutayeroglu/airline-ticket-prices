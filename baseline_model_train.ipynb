{
  "cells": [
    {
      "cell_type": "code",
      "execution_count": 2,
      "metadata": {
        "colab": {
          "base_uri": "https://localhost:8080/"
        },
        "id": "2xtDicB_xg9U",
        "outputId": "338d425f-b40f-4c7b-c472-c402c0ab58e9"
      },
      "outputs": [
        {
          "output_type": "stream",
          "name": "stdout",
          "text": [
            "Mounted at /content/drive\n"
          ]
        }
      ],
      "source": [
        "from google.colab import drive\n",
        "drive_root = '/content/drive'\n",
        "drive.mount(drive_root, force_remount=True)"
      ]
    },
    {
      "cell_type": "code",
      "execution_count": 3,
      "metadata": {
        "id": "Z2WVP8aDxmSS"
      },
      "outputs": [],
      "source": [
        "import sys\n",
        "import os\n",
        "\n",
        "project_root = os.path.join(drive_root, 'MyDrive/Colab Notebooks/cmpe540/final-project')\n",
        "source_root = os.path.join(project_root, 'src')\n",
        "sys.path.append(source_root)\n",
        "data_folder_path = os.path.join(project_root, 'data')\n",
        "raw_data_folder_path = os.path.join(data_folder_path, 'raw')\n",
        "processed_data_folder_path = os.path.join(data_folder_path, 'processed')\n",
        "training_data_path = os.path.join(processed_data_folder_path, \"training_data\")"
      ]
    },
    {
      "cell_type": "code",
      "execution_count": 4,
      "metadata": {
        "id": "UG-pGKSdx0_C"
      },
      "outputs": [],
      "source": [
        "import pandas as pd\n",
        "import numpy as np\n",
        "\n",
        "np.random.seed(42)\n",
        "\n",
        "# Load training data\n",
        "flight_vector_path = os.path.join(training_data_path, \"flight_vector.npy\")\n",
        "targets_path = os.path.join(training_data_path, \"targets_vector.npy\")\n",
        "\n",
        "flight_vectors = np.load(flight_vector_path, allow_pickle=True)\n",
        "targets_vector = np.load(targets_path, allow_pickle=True)"
      ]
    },
    {
      "cell_type": "code",
      "execution_count": 5,
      "metadata": {
        "id": "NXWm37mmjFAv",
        "colab": {
          "base_uri": "https://localhost:8080/"
        },
        "outputId": "7d579510-73d4-4dea-8c7b-42bded880665"
      },
      "outputs": [
        {
          "output_type": "stream",
          "name": "stdout",
          "text": [
            "Training set shape: (25216, 36)\n",
            "Validation set shape: (6305, 36)\n",
            "Test set shape: (360, 36)\n",
            "Vectors saved!\n"
          ]
        }
      ],
      "source": [
        "# Determine the split index\n",
        "test_size = 360\n",
        "train_val_size = len(flight_vectors) - test_size\n",
        "\n",
        "# Split into training/validation and test sets\n",
        "train_val_vectors = flight_vectors[:train_val_size]\n",
        "test_vectors = flight_vectors[train_val_size:]\n",
        "\n",
        "train_val_targets = targets_vector[:train_val_size]\n",
        "test_targets = targets_vector[train_val_size:]\n",
        "\n",
        "from sklearn.model_selection import train_test_split\n",
        "train_vectors, val_vectors, train_targets, val_targets = train_test_split(\n",
        "    train_val_vectors,\n",
        "    train_val_targets,\n",
        "    test_size=0.2,\n",
        "    random_state=42,\n",
        "    shuffle=False\n",
        ")\n",
        "\n",
        "# Print shapes to verify\n",
        "print(\"Training set shape:\", train_vectors.shape)\n",
        "print(\"Validation set shape:\", val_vectors.shape)\n",
        "print(\"Test set shape:\", test_vectors.shape)\n",
        "\n",
        "#Save the data\n",
        "np.save(os.path.join(training_data_path, \"train_vectors.npy\"), train_vectors)\n",
        "np.save(os.path.join(training_data_path, \"val_vectors.npy\"), val_vectors)\n",
        "np.save(os.path.join(training_data_path, \"test_vectors.npy\"), test_vectors)\n",
        "\n",
        "np.save(os.path.join(training_data_path, \"train_targets.npy\"), train_targets)\n",
        "np.save(os.path.join(training_data_path, \"val_targets.npy\"), val_targets)\n",
        "np.save(os.path.join(training_data_path,\"test_targets.npy\"), test_targets)\n",
        "\n",
        "print(\"Vectors saved!\")"
      ]
    },
    {
      "cell_type": "code",
      "execution_count": 6,
      "metadata": {
        "id": "V8Yz2rLPpxRj"
      },
      "outputs": [],
      "source": [
        "import torch\n",
        "from torch.utils.data import TensorDataset, DataLoader\n",
        "\n",
        "# 1) Load the .npy files\n",
        "train_vectors = np.load(os.path.join(training_data_path, \"train_vectors.npy\"), allow_pickle=True)\n",
        "val_vectors = np.load(os.path.join(training_data_path, \"val_vectors.npy\"), allow_pickle=True)\n",
        "test_vectors = np.load(os.path.join(training_data_path, \"test_vectors.npy\"), allow_pickle=True)\n",
        "\n",
        "train_targets = np.load(os.path.join(training_data_path, \"train_targets.npy\"), allow_pickle=True)\n",
        "val_targets = np.load(os.path.join(training_data_path, \"val_targets.npy\"), allow_pickle=True)\n",
        "test_targets = np.load(os.path.join(training_data_path, \"test_targets.npy\"), allow_pickle=True)"
      ]
    },
    {
      "cell_type": "code",
      "execution_count": 7,
      "metadata": {
        "id": "wE3J2P63sM_i"
      },
      "outputs": [],
      "source": [
        "train_vectors = train_vectors.astype(float)\n",
        "val_vectors   = val_vectors.astype(float)\n",
        "test_vectors  = test_vectors.astype(float)"
      ]
    },
    {
      "cell_type": "code",
      "source": [
        "from sklearn.ensemble import RandomForestRegressor\n",
        "\n",
        "# Create the regressor\n",
        "rf = RandomForestRegressor(\n",
        "    n_estimators=100,\n",
        "    random_state=42,\n",
        "    n_jobs=-1  # use all CPU cores for speed\n",
        ")\n",
        "\n",
        "# Fit on training data\n",
        "rf.fit(train_vectors, train_targets)\n",
        "\n",
        "# Evaluate on validation data\n",
        "test_predictions = rf.predict(test_vectors)\n"
      ],
      "metadata": {
        "id": "iReWqrbU-QZM"
      },
      "execution_count": 14,
      "outputs": []
    },
    {
      "cell_type": "code",
      "source": [
        "from sklearn.metrics import root_mean_squared_error\n",
        "\n",
        "val_mse = root_mean_squared_error(test_targets, test_predictions)\n",
        "\n",
        "print(f\"Test RMSE: {val_mse:.4f}\")\n"
      ],
      "metadata": {
        "colab": {
          "base_uri": "https://localhost:8080/"
        },
        "id": "O_wWH3CfAVgQ",
        "outputId": "81102650-9be1-4671-8288-2eaa2a7235a8"
      },
      "execution_count": 16,
      "outputs": [
        {
          "output_type": "stream",
          "name": "stdout",
          "text": [
            "Validation RMSE: 45.0342\n"
          ]
        }
      ]
    },
    {
      "cell_type": "code",
      "execution_count": null,
      "metadata": {
        "colab": {
          "base_uri": "https://localhost:8080/",
          "height": 1000
        },
        "id": "NTDwULf-8Tl4",
        "outputId": "824e1e48-2c8f-438a-c722-ef7a04ca2841"
      },
      "outputs": [
        {
          "output_type": "stream",
          "name": "stdout",
          "text": [
            "Directory created at /content/drive/MyDrive/Colab Notebooks/cmpe540/final-project/results/20250114_175032\n"
          ]
        },
        {
          "output_type": "stream",
          "name": "stderr",
          "text": []
        },
        {
          "output_type": "stream",
          "name": "stdout",
          "text": [
            "Best model saved to: /content/drive/MyDrive/Colab Notebooks/cmpe540/final-project/results/20250114_175032/best_model.pth\n",
            "Epoch 1/25, Learning Rate: 1e-05, Training Loss: 149074.2694, Validation Loss: 71815.0780\n",
            "Epoch [1/25] completed in 0:00:03\n",
            "Learning Rate: 1e-05\n",
            "Average Training Loss: 149074.2694\n",
            "Average Validation Loss: 71815.0780\n"
          ]
        },
        {
          "output_type": "stream",
          "name": "stderr",
          "text": []
        },
        {
          "output_type": "stream",
          "name": "stdout",
          "text": [
            "Best model saved to: /content/drive/MyDrive/Colab Notebooks/cmpe540/final-project/results/20250114_175032/best_model.pth\n",
            "Epoch 2/25, Learning Rate: 1e-05, Training Loss: 148998.0159, Validation Loss: 71757.7855\n",
            "Epoch [2/25] completed in 0:00:03\n",
            "Learning Rate: 1e-05\n",
            "Average Training Loss: 148998.0159\n",
            "Average Validation Loss: 71757.7855\n"
          ]
        },
        {
          "output_type": "stream",
          "name": "stderr",
          "text": []
        },
        {
          "output_type": "stream",
          "name": "stdout",
          "text": [
            "Best model saved to: /content/drive/MyDrive/Colab Notebooks/cmpe540/final-project/results/20250114_175032/best_model.pth\n",
            "Epoch 3/25, Learning Rate: 1e-05, Training Loss: 148850.6292, Validation Loss: 71569.1233\n",
            "Epoch [3/25] completed in 0:00:03\n",
            "Learning Rate: 1e-05\n",
            "Average Training Loss: 148850.6292\n",
            "Average Validation Loss: 71569.1233\n"
          ]
        },
        {
          "output_type": "stream",
          "name": "stderr",
          "text": []
        },
        {
          "output_type": "stream",
          "name": "stdout",
          "text": [
            "Best model saved to: /content/drive/MyDrive/Colab Notebooks/cmpe540/final-project/results/20250114_175032/best_model.pth\n",
            "Epoch 4/25, Learning Rate: 1e-05, Training Loss: 148161.2401, Validation Loss: 70777.9369\n",
            "Epoch [4/25] completed in 0:00:03\n",
            "Learning Rate: 1e-05\n",
            "Average Training Loss: 148161.2401\n",
            "Average Validation Loss: 70777.9369\n"
          ]
        },
        {
          "output_type": "stream",
          "name": "stderr",
          "text": []
        },
        {
          "output_type": "stream",
          "name": "stdout",
          "text": [
            "Best model saved to: /content/drive/MyDrive/Colab Notebooks/cmpe540/final-project/results/20250114_175032/best_model.pth\n",
            "Epoch 5/25, Learning Rate: 1e-05, Training Loss: 146155.3749, Validation Loss: 68897.9531\n",
            "Epoch [5/25] completed in 0:00:03\n",
            "Learning Rate: 1e-05\n",
            "Average Training Loss: 146155.3749\n",
            "Average Validation Loss: 68897.9531\n"
          ]
        },
        {
          "output_type": "stream",
          "name": "stderr",
          "text": []
        },
        {
          "output_type": "stream",
          "name": "stdout",
          "text": [
            "Best model saved to: /content/drive/MyDrive/Colab Notebooks/cmpe540/final-project/results/20250114_175032/best_model.pth\n",
            "Epoch 6/25, Learning Rate: 1e-05, Training Loss: 142138.7775, Validation Loss: 65520.5305\n",
            "Epoch [6/25] completed in 0:00:03\n",
            "Learning Rate: 1e-05\n",
            "Average Training Loss: 142138.7775\n",
            "Average Validation Loss: 65520.5305\n"
          ]
        },
        {
          "output_type": "stream",
          "name": "stderr",
          "text": []
        },
        {
          "output_type": "stream",
          "name": "stdout",
          "text": [
            "Best model saved to: /content/drive/MyDrive/Colab Notebooks/cmpe540/final-project/results/20250114_175032/best_model.pth\n",
            "Epoch 7/25, Learning Rate: 1e-05, Training Loss: 135435.5740, Validation Loss: 60285.0698\n",
            "Epoch [7/25] completed in 0:00:03\n",
            "Learning Rate: 1e-05\n",
            "Average Training Loss: 135435.5740\n",
            "Average Validation Loss: 60285.0698\n"
          ]
        },
        {
          "output_type": "stream",
          "name": "stderr",
          "text": []
        },
        {
          "output_type": "stream",
          "name": "stdout",
          "text": [
            "Best model saved to: /content/drive/MyDrive/Colab Notebooks/cmpe540/final-project/results/20250114_175032/best_model.pth\n",
            "Epoch 8/25, Learning Rate: 1e-05, Training Loss: 125476.9487, Validation Loss: 53051.8027\n",
            "Epoch [8/25] completed in 0:00:03\n",
            "Learning Rate: 1e-05\n",
            "Average Training Loss: 125476.9487\n",
            "Average Validation Loss: 53051.8027\n"
          ]
        },
        {
          "output_type": "stream",
          "name": "stderr",
          "text": []
        },
        {
          "output_type": "stream",
          "name": "stdout",
          "text": [
            "Best model saved to: /content/drive/MyDrive/Colab Notebooks/cmpe540/final-project/results/20250114_175032/best_model.pth\n",
            "Epoch 9/25, Learning Rate: 1e-05, Training Loss: 112013.9660, Validation Loss: 44050.7578\n",
            "Epoch [9/25] completed in 0:00:03\n",
            "Learning Rate: 1e-05\n",
            "Average Training Loss: 112013.9660\n",
            "Average Validation Loss: 44050.7578\n"
          ]
        },
        {
          "output_type": "stream",
          "name": "stderr",
          "text": []
        },
        {
          "output_type": "stream",
          "name": "stdout",
          "text": [
            "Best model saved to: /content/drive/MyDrive/Colab Notebooks/cmpe540/final-project/results/20250114_175032/best_model.pth\n",
            "Epoch 10/25, Learning Rate: 1e-05, Training Loss: 95275.0231, Validation Loss: 34065.4563\n",
            "Epoch [10/25] completed in 0:00:03\n",
            "Learning Rate: 1e-05\n",
            "Average Training Loss: 95275.0231\n",
            "Average Validation Loss: 34065.4563\n"
          ]
        },
        {
          "output_type": "stream",
          "name": "stderr",
          "text": []
        },
        {
          "output_type": "stream",
          "name": "stdout",
          "text": [
            "Best model saved to: /content/drive/MyDrive/Colab Notebooks/cmpe540/final-project/results/20250114_175032/best_model.pth\n",
            "Epoch 11/25, Learning Rate: 1e-05, Training Loss: 76263.2759, Validation Loss: 24543.2622\n",
            "Epoch [11/25] completed in 0:00:03\n",
            "Learning Rate: 1e-05\n",
            "Average Training Loss: 76263.2759\n",
            "Average Validation Loss: 24543.2622\n"
          ]
        },
        {
          "output_type": "stream",
          "name": "stderr",
          "text": []
        },
        {
          "output_type": "stream",
          "name": "stdout",
          "text": [
            "Best model saved to: /content/drive/MyDrive/Colab Notebooks/cmpe540/final-project/results/20250114_175032/best_model.pth\n",
            "Epoch 12/25, Learning Rate: 1e-05, Training Loss: 56855.7583, Validation Loss: 17448.3149\n",
            "Epoch [12/25] completed in 0:00:03\n",
            "Learning Rate: 1e-05\n",
            "Average Training Loss: 56855.7583\n",
            "Average Validation Loss: 17448.3149\n"
          ]
        },
        {
          "output_type": "stream",
          "name": "stderr",
          "text": []
        },
        {
          "output_type": "stream",
          "name": "stdout",
          "text": [
            "Best model saved to: /content/drive/MyDrive/Colab Notebooks/cmpe540/final-project/results/20250114_175032/best_model.pth\n",
            "Epoch 13/25, Learning Rate: 1e-05, Training Loss: 39580.3646, Validation Loss: 14568.5785\n",
            "Epoch [13/25] completed in 0:00:03\n",
            "Learning Rate: 1e-05\n",
            "Average Training Loss: 39580.3646\n",
            "Average Validation Loss: 14568.5785\n"
          ]
        },
        {
          "output_type": "stream",
          "name": "stderr",
          "text": []
        },
        {
          "output_type": "stream",
          "name": "stdout",
          "text": [
            "Epoch 14/25, Learning Rate: 1e-05, Training Loss: 26823.1782, Validation Loss: 16247.2724\n",
            "Epoch [14/25] completed in 0:00:03\n",
            "Learning Rate: 1e-05\n",
            "Average Training Loss: 26823.1782\n",
            "Average Validation Loss: 16247.2724\n"
          ]
        },
        {
          "output_type": "stream",
          "name": "stderr",
          "text": []
        },
        {
          "output_type": "stream",
          "name": "stdout",
          "text": [
            "Epoch 15/25, Learning Rate: 1e-05, Training Loss: 19516.8771, Validation Loss: 20452.4218\n",
            "Epoch [15/25] completed in 0:00:03\n",
            "Learning Rate: 1e-05\n",
            "Average Training Loss: 19516.8771\n",
            "Average Validation Loss: 20452.4218\n"
          ]
        },
        {
          "output_type": "stream",
          "name": "stderr",
          "text": []
        },
        {
          "output_type": "stream",
          "name": "stdout",
          "text": [
            "Epoch 16/25, Learning Rate: 1e-05, Training Loss: 16449.5357, Validation Loss: 24208.8691\n",
            "Epoch [16/25] completed in 0:00:03\n",
            "Learning Rate: 1e-05\n",
            "Average Training Loss: 16449.5357\n",
            "Average Validation Loss: 24208.8691\n"
          ]
        },
        {
          "output_type": "stream",
          "name": "stderr",
          "text": []
        },
        {
          "output_type": "stream",
          "name": "stdout",
          "text": [
            "Epoch 17/25, Learning Rate: 1e-05, Training Loss: 15475.3703, Validation Loss: 26292.2930\n",
            "Epoch [17/25] completed in 0:00:03\n",
            "Learning Rate: 1e-05\n",
            "Average Training Loss: 15475.3703\n",
            "Average Validation Loss: 26292.2930\n"
          ]
        },
        {
          "output_type": "stream",
          "name": "stderr",
          "text": []
        },
        {
          "output_type": "stream",
          "name": "stdout",
          "text": [
            "Epoch 18/25, Learning Rate: 1.0000000000000002e-06, Training Loss: 15203.2847, Validation Loss: 27180.3520\n",
            "Epoch [18/25] completed in 0:00:03\n",
            "Learning Rate: 1.0000000000000002e-06\n",
            "Average Training Loss: 15203.2847\n",
            "Average Validation Loss: 27180.3520\n"
          ]
        },
        {
          "output_type": "stream",
          "name": "stderr",
          "text": []
        },
        {
          "output_type": "stream",
          "name": "stdout",
          "text": [
            "Epoch 19/25, Learning Rate: 1.0000000000000002e-06, Training Loss: 15253.1847, Validation Loss: 27440.5088\n",
            "Epoch [19/25] completed in 0:00:03\n",
            "Learning Rate: 1.0000000000000002e-06\n",
            "Average Training Loss: 15253.1847\n",
            "Average Validation Loss: 27440.5088\n"
          ]
        },
        {
          "output_type": "stream",
          "name": "stderr",
          "text": []
        },
        {
          "output_type": "stream",
          "name": "stdout",
          "text": [
            "Epoch 20/25, Learning Rate: 1.0000000000000002e-06, Training Loss: 15225.4629, Validation Loss: 27677.2582\n",
            "Epoch [20/25] completed in 0:00:03\n",
            "Learning Rate: 1.0000000000000002e-06\n",
            "Average Training Loss: 15225.4629\n",
            "Average Validation Loss: 27677.2582\n"
          ]
        },
        {
          "output_type": "stream",
          "name": "stderr",
          "text": []
        },
        {
          "output_type": "stream",
          "name": "stdout",
          "text": [
            "Epoch 21/25, Learning Rate: 1.0000000000000002e-06, Training Loss: 15201.0655, Validation Loss: 27908.9113\n",
            "Epoch [21/25] completed in 0:00:03\n",
            "Learning Rate: 1.0000000000000002e-06\n",
            "Average Training Loss: 15201.0655\n",
            "Average Validation Loss: 27908.9113\n"
          ]
        },
        {
          "output_type": "stream",
          "name": "stderr",
          "text": []
        },
        {
          "output_type": "stream",
          "name": "stdout",
          "text": [
            "Epoch 22/25, Learning Rate: 1.0000000000000002e-06, Training Loss: 15180.5267, Validation Loss: 28112.6535\n",
            "Epoch [22/25] completed in 0:00:03\n",
            "Learning Rate: 1.0000000000000002e-06\n",
            "Average Training Loss: 15180.5267\n",
            "Average Validation Loss: 28112.6535\n"
          ]
        },
        {
          "output_type": "stream",
          "name": "stderr",
          "text": []
        },
        {
          "output_type": "stream",
          "name": "stdout",
          "text": [
            "Epoch 23/25, Learning Rate: 1.0000000000000002e-07, Training Loss: 15163.6107, Validation Loss: 28292.9065\n",
            "Epoch [23/25] completed in 0:00:03\n",
            "Learning Rate: 1.0000000000000002e-07\n",
            "Average Training Loss: 15163.6107\n",
            "Average Validation Loss: 28292.9065\n"
          ]
        },
        {
          "output_type": "stream",
          "name": "stderr",
          "text": []
        },
        {
          "output_type": "stream",
          "name": "stdout",
          "text": [
            "Epoch 24/25, Learning Rate: 1.0000000000000002e-07, Training Loss: 15152.3193, Validation Loss: 28310.7975\n",
            "Epoch [24/25] completed in 0:00:03\n",
            "Learning Rate: 1.0000000000000002e-07\n",
            "Average Training Loss: 15152.3193\n",
            "Average Validation Loss: 28310.7975\n"
          ]
        },
        {
          "output_type": "stream",
          "name": "stderr",
          "text": []
        },
        {
          "output_type": "stream",
          "name": "stdout",
          "text": [
            "Epoch 25/25, Learning Rate: 1.0000000000000002e-07, Training Loss: 15151.0479, Validation Loss: 28330.4225\n",
            "Epoch [25/25] completed in 0:00:03\n",
            "Learning Rate: 1.0000000000000002e-07\n",
            "Average Training Loss: 15151.0479\n",
            "Average Validation Loss: 28330.4225\n",
            "Final trained model saved to: /content/drive/MyDrive/Colab Notebooks/cmpe540/final-project/results/20250114_175032/final_trained_model.pth\n",
            "Training/Validation loss plot saved to: /content/drive/MyDrive/Colab Notebooks/cmpe540/final-project/results/20250114_175032/training_validation_loss_plot.png\n"
          ]
        },
        {
          "output_type": "display_data",
          "data": {
            "text/plain": [
              "<Figure size 640x480 with 1 Axes>"
            ],
            "image/png": "[encoded data removed]"
          },
          "metadata": {}
        }
      ],
      "source": [
        "from datetime import datetime\n",
        "import os\n",
        "\n",
        "## Artifact paths (checkpoints, plots, metrics)\n",
        "timestamp = datetime.now().strftime(\"%Y%m%d_%H%M%S\")\n",
        "results_dir = os.path.join(project_root, 'results', timestamp)\n",
        "\n",
        "# Ensure artifact paths exist\n",
        "if not os.path.exists(results_dir):\n",
        "    os.makedirs(results_dir)\n",
        "    print(f'Directory created at {results_dir}')\n",
        "else:\n",
        "  print(f'Directory {results_dir} already exists.')\n",
        "\n",
        "# Train the model\n",
        "train_model(\n",
        "    model=model,\n",
        "    dataloader=train_loader,\n",
        "    optimizer=optimizer,\n",
        "    loss_fn=loss_fn,\n",
        "    num_epochs=num_epochs,\n",
        "    device=device,\n",
        "    results_dir=results_dir,\n",
        "    val_loader=val_loader,\n",
        "    scheduler=scheduler\n",
        ")"
      ]
    },
    {
      "cell_type": "code",
      "execution_count": null,
      "metadata": {
        "collapsed": true,
        "id": "6Q84WneG3wt9"
      },
      "outputs": [],
      "source": [
        "|"
      ]
    }
  ],
  "metadata": {
    "colab": {
      "machine_shape": "hm",
      "provenance": []
    },
    "kernelspec": {
      "display_name": "Python 3",
      "name": "python3"
    },
    "language_info": {
      "name": "python"
    }
  },
  "nbformat": 4,
  "nbformat_minor": 0
}