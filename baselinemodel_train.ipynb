{
  "nbformat": 4,
  "nbformat_minor": 0,
  "metadata": {
    "colab": {
      "provenance": [],
      "machine_shape": "hm",
      "gpuType": "A100"
    },
    "kernelspec": {
      "name": "python3",
      "display_name": "Python 3"
    },
    "language_info": {
      "name": "python"
    },
    "accelerator": "GPU"
  },
  "cells": [
    {
      "cell_type": "code",
      "execution_count": null,
      "metadata": {
        "colab": {
          "base_uri": "https://localhost:8080/"
        },
        "id": "2xtDicB_xg9U",
        "outputId": "aa6d7098-205d-4e6d-93ba-859c1354a44c"
      },
      "outputs": [
        {
          "output_type": "stream",
          "name": "stdout",
          "text": [
            "Mounted at /content/drive\n"
          ]
        }
      ],
      "source": [
        "from google.colab import drive\n",
        "drive_root = '/content/drive'\n",
        "drive.mount(drive_root, force_remount=True)"
      ]
    },
    {
      "cell_type": "code",
      "source": [
        "import sys\n",
        "import os\n",
        "\n",
        "project_root = os.path.join(drive_root, 'MyDrive/Colab Notebooks/cmpe540/final-project')\n",
        "source_root = os.path.join(project_root, 'src')\n",
        "sys.path.append(source_root)\n",
        "data_folder_path = os.path.join(project_root, 'data')\n",
        "raw_data_folder_path = os.path.join(data_folder_path, 'raw')\n",
        "processed_data_folder_path = os.path.join(data_folder_path, 'processed')\n",
        "train_data_path = os.path.join(processed_data_folder_path, \"train_data.csv\")"
      ],
      "metadata": {
        "id": "Z2WVP8aDxmSS"
      },
      "execution_count": null,
      "outputs": []
    },
    {
      "cell_type": "code",
      "source": [
        "import pandas as pd\n",
        "\n",
        "# Read the data, carry out final changes\n",
        "full_set = pd.read_csv(train_data_path)\n",
        "full_set = full_set.drop(['flightDate'], axis=1)\n",
        "full_set['isNonStop'] = full_set['isNonStop'].astype(int)"
      ],
      "metadata": {
        "id": "UG-pGKSdx0_C"
      },
      "execution_count": null,
      "outputs": []
    },
    {
      "cell_type": "code",
      "source": [
        "import torch\n",
        "from torch.utils.data import DataLoader, Dataset\n",
        "\n",
        "# Define the dataset\n",
        "class TicketPriceDataset(Dataset):\n",
        "    def __init__(self, X, y):\n",
        "      self.X = torch.tensor(X, dtype=torch.float32)\n",
        "      self.y = torch.tensor(y, dtype=torch.float32)\n",
        "\n",
        "    def __len__(self):\n",
        "      return len(self.X)\n",
        "\n",
        "    def __getitem__(self, idx):\n",
        "      return self.X[idx], self.y[idx]"
      ],
      "metadata": {
        "id": "fjv-QjXzz8Pn"
      },
      "execution_count": null,
      "outputs": []
    },
    {
      "cell_type": "code",
      "source": [
        "import torch\n",
        "import torch.nn as nn\n",
        "import torch.nn.functional as F\n",
        "\n",
        "\n",
        "# Define the model\n",
        "class TicketPriceModel(nn.Module):\n",
        "    def __init__(self):\n",
        "      super(TicketPriceModel, self).__init__()\n",
        "      # 3-layer LSTM block\n",
        "      self.lstm = nn.LSTM(input_size=36, hidden_size=64, num_layers=3, batch_first=True)\n",
        "\n",
        "      # 3-layer 1D Conv block\n",
        "      self.conv1 = nn.Conv1d(in_channels=64, out_channels=32, kernel_size=3, padding=1)\n",
        "      self.conv2 = nn.Conv1d(in_channels=32, out_channels=16, kernel_size=3, padding=1)\n",
        "      self.conv3 = nn.Conv1d(in_channels=16, out_channels=16, kernel_size=3, padding=1)\n",
        "\n",
        "      # Fully connected layers\n",
        "      # Calculate the input size dynamically based on the output of the convolutional layers\n",
        "      self.fc1_input_size = self._get_fc1_input_size(torch.randn(1, 36))  # Pass a dummy input to calculate size\n",
        "      self.fc1 = nn.Linear(self.fc1_input_size, 128)\n",
        "      self.fc2 = nn.Linear(128, 1)  # Output: ticket price\n",
        "\n",
        "      # Activation function\n",
        "      self.relu = nn.ReLU()\n",
        "\n",
        "    def _get_fc1_input_size(self, x):\n",
        "      \"\"\"Calculates the input size for fc1 based on a dummy input.\"\"\"\n",
        "      x, _ = self.lstm(x)\n",
        "      if x.dim() == 2:\n",
        "        x = x.unsqueeze(1)\n",
        "      x = x.permute(0, 2, 1)\n",
        "      x = self.conv1(x)\n",
        "      x = F.relu(x)\n",
        "      x = self.conv2(x)\n",
        "      x = F.relu(x)\n",
        "      x = self.conv3(x)\n",
        "      x = F.relu(x)\n",
        "      return x.view(x.size(0), -1).shape[1]\n",
        "\n",
        "    def forward(self, x):\n",
        "      # LSTM block\n",
        "      x, _ = self.lstm(x)\n",
        "\n",
        "      # Check if x has 3 dimensions, if not, add a dimension\n",
        "      if x.dim() == 2:  # If x has only 2 dimensions\n",
        "        x = x.unsqueeze(1)  # Add a dimension at position 1\n",
        "\n",
        "      # Permute for Conv1D: (batch_size, channels=64, seq_length)\n",
        "      x = x.permute(0, 2, 1)\n",
        "\n",
        "      # Pass through Conv layers\n",
        "      x = self.conv1(x)  # -> (batch_size, 32, seq_length')\n",
        "      x = F.relu(x)\n",
        "      x = self.conv2(x)  # -> (batch_size, 16, seq_length'')\n",
        "      x = F.relu(x)\n",
        "      x = self.conv3(x)  # -> (batch_size, 16, seq_length''')\n",
        "      x = F.relu(x)\n",
        "\n",
        "\n",
        "      # Flatten for fully connected layers\n",
        "      x = x.view(x.size(0), -1)  # (batch_size, 64 * 16)\n",
        "\n",
        "      # Fully-connected layers\n",
        "      x = self.fc1(x)\n",
        "      x = F.relu(x)\n",
        "      x = self.fc2(x)  # -> (batch_size, 1)\n",
        "\n",
        "      return x\n"
      ],
      "metadata": {
        "id": "edITQA8KyRGQ"
      },
      "execution_count": null,
      "outputs": []
    },
    {
      "cell_type": "code",
      "source": [
        "from tqdm import tqdm\n",
        "import time\n",
        "from datetime import datetime, timedelta\n",
        "\n",
        "\n",
        "# Training flow\n",
        "def train_model(model, dataloader, optimizer, loss_fn, num_epochs, device, results_dir): # Add device parameter\n",
        "    # File paths for saving loss data\n",
        "    epoch_loss_file = os.path.join(results_dir, \"epoch_losses.txt\")\n",
        "    epoch_losses = []\n",
        "\n",
        "    model.train()\n",
        "    for epoch in range(num_epochs):\n",
        "      start_time = time.time()\n",
        "      epoch_loss = 0.0\n",
        "\n",
        "      for batch_idx, (inputs, targets) in enumerate(tqdm(dataloader, desc=f\"Epoch {epoch + 1}/{num_epochs}\", leave=False)):\n",
        "        # Move data to device\n",
        "        inputs, targets = inputs.to(device), targets.to(device)\n",
        "\n",
        "        optimizer.zero_grad()  # Zero the gradients\n",
        "        outputs = model(inputs)  # Forward pass\n",
        "        loss = loss_fn(outputs.squeeze(), targets)  # Compute loss\n",
        "        loss.backward()  # Backpropagation\n",
        "        optimizer.step()  # Update parameters\n",
        "\n",
        "        epoch_loss += loss.item()\n",
        "\n",
        "      # Epoch summary metrics\n",
        "      current_lr = optimizer.param_groups[0]['lr']\n",
        "      epoch_duration = time.time() - start_time\n",
        "      epoch_loss /= len(dataloader)\n",
        "      epoch_losses.append(epoch_loss)\n",
        "      print(f\"Epoch {epoch + 1}/{num_epochs}, Learning Rate: {current_lr}, Loss: {epoch_loss}\")\n",
        "\n",
        "      with open(epoch_loss_file, \"a\") as f:\n",
        "        # Save epoch summary\n",
        "        epoch_summary = (\n",
        "          f\"Epoch [{epoch + 1}/{num_epochs}] completed in {str(timedelta(seconds=int(epoch_duration)))}\\n\"\n",
        "          f\"Learning Rate: {current_lr}\"\n",
        "          f\"Average Loss: {epoch_loss:.4f}\\n\"\n",
        "        )\n",
        "\n",
        "        # Print to console\n",
        "        print(epoch_summary.strip())\n",
        "\n",
        "        # Write to file\n",
        "        f.write(epoch_summary)\n",
        "\n",
        "    # Save model\n",
        "    model_save_path = os.path.join(results_dir, 'final_trained_model.pth')\n",
        "    torch.save(model.state_dict(), model_save_path)\n",
        "    print(f\"Final trained model saved to: {model_save_path}\")\n",
        "\n",
        "    # Save and display the training loss plot\n",
        "    import matplotlib.pyplot as plt\n",
        "    plot_filename_drive = os.path.join(results_dir, 'training_loss_plot.png')\n",
        "    plt.figure()\n",
        "    plt.plot(range(1, num_epochs + 1), epoch_losses, marker='o')\n",
        "    plt.xlabel('Epoch')\n",
        "    plt.ylabel('Average Loss')\n",
        "    plt.title('Training Loss Over Epochs')\n",
        "    plt.grid(True)\n",
        "    plt.savefig(plot_filename_drive)\n",
        "    print(f\"Training loss plot saved to Google Drive at {plot_filename_drive}\")\n",
        "    plt.show()\n"
      ],
      "metadata": {
        "id": "4_UIdtZI6rbp"
      },
      "execution_count": null,
      "outputs": []
    },
    {
      "cell_type": "code",
      "source": [
        "# Define split ratio\n",
        "train_ratio = 0.8\n",
        "\n",
        "# Compute split index\n",
        "split_index = int(len(full_set) * train_ratio)\n",
        "\n",
        "# Split the data\n",
        "train_set = full_set.iloc[:split_index]\n",
        "test_set = full_set.iloc[split_index:]\n"
      ],
      "metadata": {
        "id": "wllGjA433q46"
      },
      "execution_count": null,
      "outputs": []
    },
    {
      "cell_type": "code",
      "source": [
        "batch_size = 256\n",
        "\n",
        "from torch.utils.data import DataLoader\n",
        "\n",
        "\n",
        "train_loader = DataLoader(\n",
        "  TicketPriceDataset(train_set.drop(columns=['baseFare']).values, train_set['baseFare'].values),\n",
        "  batch_size=batch_size,\n",
        "  shuffle=False  # No shuffling for time series\n",
        ")\n",
        "\n",
        "test_loader = DataLoader(\n",
        "  TicketPriceDataset(test_set.drop(columns=['baseFare']).values, test_set['baseFare'].values),\n",
        "  batch_size=batch_size,\n",
        "  shuffle=False\n",
        ")\n"
      ],
      "metadata": {
        "id": "rKwLSXdl3rYp"
      },
      "execution_count": null,
      "outputs": []
    },
    {
      "cell_type": "code",
      "source": [
        "import torch.optim as optim\n",
        "\n",
        "\n",
        "# Hyperparameters\n",
        "batch_size = 256\n",
        "learning_rate = 0.00002\n",
        "num_epochs = 20\n",
        "\n",
        "# Check if GPU is available\n",
        "device = torch.device(\"cuda\" if torch.cuda.is_available() else \"cpu\")\n",
        "\n",
        "# Model, optimizer, and loss function\n",
        "model = TicketPriceModel().to(device)\n",
        "optimizer = optim.Adam(model.parameters(), lr=learning_rate)\n",
        "loss_fn = nn.MSELoss()"
      ],
      "metadata": {
        "id": "5KbI3Y9v0168"
      },
      "execution_count": null,
      "outputs": []
    },
    {
      "cell_type": "code",
      "source": [
        "from datetime import datetime\n",
        "import os\n",
        "\n",
        "## Artifact paths (checkpoints, plots, metrics)\n",
        "timestamp = datetime.now().strftime(\"%Y%m%d_%H%M%S\")\n",
        "results_dir = os.path.join(project_root, 'results', timestamp)\n",
        "\n",
        "# Ensure artifact paths exist\n",
        "if not os.path.exists(results_dir):\n",
        "    os.makedirs(results_dir)\n",
        "    print(f'Directory created at {results_dir}')\n",
        "else:\n",
        "  print(f'Directory {results_dir} already exists.')"
      ],
      "metadata": {
        "colab": {
          "base_uri": "https://localhost:8080/"
        },
        "id": "NTDwULf-8Tl4",
        "outputId": "6447bb8f-4e18-498a-8626-e851cb9bb49b"
      },
      "execution_count": null,
      "outputs": [
        {
          "output_type": "stream",
          "name": "stdout",
          "text": [
            "Directory created at /content/drive/MyDrive/Colab Notebooks/cmpe540/final-project/results/20250113_141512\n"
          ]
        }
      ]
    },
    {
      "cell_type": "code",
      "source": [
        "# Train the model\n",
        "train_model(model, train_loader, optimizer, loss_fn, num_epochs, device, results_dir)"
      ],
      "metadata": {
        "id": "6Q84WneG3wt9",
        "colab": {
          "base_uri": "https://localhost:8080/",
          "height": 1000
        },
        "outputId": "aaee3e7b-8053-4051-eabc-8c0b1e0a26b6"
      },
      "execution_count": null,
      "outputs": [
        {
          "output_type": "stream",
          "name": "stderr",
          "text": []
        },
        {
          "output_type": "stream",
          "name": "stdout",
          "text": [
            "Epoch 1/20, Learning Rate: 2e-05, Loss: 132105.61660810406\n",
            "Epoch [1/20] completed in 0:00:02\n",
            "Learning Rate: 2e-05Average Loss: 132105.6166\n"
          ]
        },
        {
          "output_type": "stream",
          "name": "stderr",
          "text": []
        },
        {
          "output_type": "stream",
          "name": "stdout",
          "text": [
            "Epoch 2/20, Learning Rate: 2e-05, Loss: 123845.9917576256\n",
            "Epoch [2/20] completed in 0:00:02\n",
            "Learning Rate: 2e-05Average Loss: 123845.9918\n"
          ]
        },
        {
          "output_type": "stream",
          "name": "stderr",
          "text": []
        },
        {
          "output_type": "stream",
          "name": "stdout",
          "text": [
            "Epoch 3/20, Learning Rate: 2e-05, Loss: 108168.96007307865\n",
            "Epoch [3/20] completed in 0:00:02\n",
            "Learning Rate: 2e-05Average Loss: 108168.9601\n"
          ]
        },
        {
          "output_type": "stream",
          "name": "stderr",
          "text": []
        },
        {
          "output_type": "stream",
          "name": "stdout",
          "text": [
            "Epoch 4/20, Learning Rate: 2e-05, Loss: 85101.54129597788\n",
            "Epoch [4/20] completed in 0:00:02\n",
            "Learning Rate: 2e-05Average Loss: 85101.5413\n"
          ]
        },
        {
          "output_type": "stream",
          "name": "stderr",
          "text": []
        },
        {
          "output_type": "stream",
          "name": "stdout",
          "text": [
            "Epoch 5/20, Learning Rate: 2e-05, Loss: 58727.87039637224\n",
            "Epoch [5/20] completed in 0:00:02\n",
            "Learning Rate: 2e-05Average Loss: 58727.8704\n"
          ]
        },
        {
          "output_type": "stream",
          "name": "stderr",
          "text": []
        },
        {
          "output_type": "stream",
          "name": "stdout",
          "text": [
            "Epoch 6/20, Learning Rate: 2e-05, Loss: 36375.588061172995\n",
            "Epoch [6/20] completed in 0:00:02\n",
            "Learning Rate: 2e-05Average Loss: 36375.5881\n"
          ]
        },
        {
          "output_type": "stream",
          "name": "stderr",
          "text": []
        },
        {
          "output_type": "stream",
          "name": "stdout",
          "text": [
            "Epoch 7/20, Learning Rate: 2e-05, Loss: 23509.262057509717\n",
            "Epoch [7/20] completed in 0:00:02\n",
            "Learning Rate: 2e-05Average Loss: 23509.2621\n"
          ]
        },
        {
          "output_type": "stream",
          "name": "stderr",
          "text": []
        },
        {
          "output_type": "stream",
          "name": "stdout",
          "text": [
            "Epoch 8/20, Learning Rate: 2e-05, Loss: 18890.56950414922\n",
            "Epoch [8/20] completed in 0:00:02\n",
            "Learning Rate: 2e-05Average Loss: 18890.5695\n"
          ]
        },
        {
          "output_type": "stream",
          "name": "stderr",
          "text": []
        },
        {
          "output_type": "stream",
          "name": "stdout",
          "text": [
            "Epoch 9/20, Learning Rate: 2e-05, Loss: 17795.58281623804\n",
            "Epoch [9/20] completed in 0:00:02\n",
            "Learning Rate: 2e-05Average Loss: 17795.5828\n"
          ]
        },
        {
          "output_type": "stream",
          "name": "stderr",
          "text": []
        },
        {
          "output_type": "stream",
          "name": "stdout",
          "text": [
            "Epoch 10/20, Learning Rate: 2e-05, Loss: 17568.918738552256\n",
            "Epoch [10/20] completed in 0:00:02\n",
            "Learning Rate: 2e-05Average Loss: 17568.9187\n"
          ]
        },
        {
          "output_type": "stream",
          "name": "stderr",
          "text": []
        },
        {
          "output_type": "stream",
          "name": "stdout",
          "text": [
            "Epoch 11/20, Learning Rate: 2e-05, Loss: 17518.692664333506\n",
            "Epoch [11/20] completed in 0:00:02\n",
            "Learning Rate: 2e-05Average Loss: 17518.6927\n"
          ]
        },
        {
          "output_type": "stream",
          "name": "stderr",
          "text": []
        },
        {
          "output_type": "stream",
          "name": "stdout",
          "text": [
            "Epoch 12/20, Learning Rate: 2e-05, Loss: 17507.555492346368\n",
            "Epoch [12/20] completed in 0:00:02\n",
            "Learning Rate: 2e-05Average Loss: 17507.5555\n"
          ]
        },
        {
          "output_type": "stream",
          "name": "stderr",
          "text": []
        },
        {
          "output_type": "stream",
          "name": "stdout",
          "text": [
            "Epoch 13/20, Learning Rate: 2e-05, Loss: 17505.272490140924\n",
            "Epoch [13/20] completed in 0:00:02\n",
            "Learning Rate: 2e-05Average Loss: 17505.2725\n"
          ]
        },
        {
          "output_type": "stream",
          "name": "stderr",
          "text": []
        },
        {
          "output_type": "stream",
          "name": "stdout",
          "text": [
            "Epoch 14/20, Learning Rate: 2e-05, Loss: 17505.34696821733\n",
            "Epoch [14/20] completed in 0:00:02\n",
            "Learning Rate: 2e-05Average Loss: 17505.3470\n"
          ]
        },
        {
          "output_type": "stream",
          "name": "stderr",
          "text": []
        },
        {
          "output_type": "stream",
          "name": "stdout",
          "text": [
            "Epoch 15/20, Learning Rate: 2e-05, Loss: 17505.487738066313\n",
            "Epoch [15/20] completed in 0:00:02\n",
            "Learning Rate: 2e-05Average Loss: 17505.4877\n"
          ]
        },
        {
          "output_type": "stream",
          "name": "stderr",
          "text": []
        },
        {
          "output_type": "stream",
          "name": "stdout",
          "text": [
            "Epoch 16/20, Learning Rate: 2e-05, Loss: 17505.675649250523\n",
            "Epoch [16/20] completed in 0:00:02\n",
            "Learning Rate: 2e-05Average Loss: 17505.6756\n"
          ]
        },
        {
          "output_type": "stream",
          "name": "stderr",
          "text": []
        },
        {
          "output_type": "stream",
          "name": "stdout",
          "text": [
            "Epoch 17/20, Learning Rate: 2e-05, Loss: 17505.73328746449\n",
            "Epoch [17/20] completed in 0:00:02\n",
            "Learning Rate: 2e-05Average Loss: 17505.7333\n"
          ]
        },
        {
          "output_type": "stream",
          "name": "stderr",
          "text": []
        },
        {
          "output_type": "stream",
          "name": "stdout",
          "text": [
            "Epoch 18/20, Learning Rate: 2e-05, Loss: 17505.704728852048\n",
            "Epoch [18/20] completed in 0:00:02\n",
            "Learning Rate: 2e-05Average Loss: 17505.7047\n"
          ]
        },
        {
          "output_type": "stream",
          "name": "stderr",
          "text": []
        },
        {
          "output_type": "stream",
          "name": "stdout",
          "text": [
            "Epoch 19/20, Learning Rate: 2e-05, Loss: 17505.61297753439\n",
            "Epoch [19/20] completed in 0:00:02\n",
            "Learning Rate: 2e-05Average Loss: 17505.6130\n"
          ]
        },
        {
          "output_type": "stream",
          "name": "stderr",
          "text": []
        },
        {
          "output_type": "stream",
          "name": "stdout",
          "text": [
            "Epoch 20/20, Learning Rate: 2e-05, Loss: 17505.517311789772\n",
            "Epoch [20/20] completed in 0:00:02\n",
            "Learning Rate: 2e-05Average Loss: 17505.5173\n",
            "Final trained model saved to: /content/drive/MyDrive/Colab Notebooks/cmpe540/final-project/results/20250113_141512/final_trained_model.pth\n",
            "Training loss plot saved to Google Drive at /content/drive/MyDrive/Colab Notebooks/cmpe540/final-project/results/20250113_141512/training_loss_plot.png\n"
          ]
        },
        {
          "output_type": "display_data",
          "data": {
            "text/plain": [
              "<Figure size 640x480 with 1 Axes>"
            ],
            "image/png": "[encoded data removed]"
          },
          "metadata": {}
        }
      ]
    },
    {
      "cell_type": "code",
      "source": [],
      "metadata": {
        "id": "8j0IJtLsBNIU"
      },
      "execution_count": null,
      "outputs": []
    }
  ]
}