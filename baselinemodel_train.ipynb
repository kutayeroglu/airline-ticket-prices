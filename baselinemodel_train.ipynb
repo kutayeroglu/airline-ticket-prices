{
  "nbformat": 4,
  "nbformat_minor": 0,
  "metadata": {
    "colab": {
      "provenance": [],
      "machine_shape": "hm",
      "gpuType": "A100"
    },
    "kernelspec": {
      "name": "python3",
      "display_name": "Python 3"
    },
    "language_info": {
      "name": "python"
    },
    "accelerator": "GPU"
  },
  "cells": [
    {
      "cell_type": "code",
      "execution_count": null,
      "metadata": {
        "colab": {
          "base_uri": "https://localhost:8080/"
        },
        "id": "2xtDicB_xg9U",
        "outputId": "18c94bc2-a1ea-4dfe-f9c9-9694224cd470"
      },
      "outputs": [
        {
          "output_type": "stream",
          "name": "stdout",
          "text": [
            "Mounted at /content/drive\n"
          ]
        }
      ],
      "source": [
        "from google.colab import drive\n",
        "drive_root = '/content/drive'\n",
        "drive.mount(drive_root, force_remount=True)"
      ]
    },
    {
      "cell_type": "code",
      "source": [
        "import sys\n",
        "import os\n",
        "\n",
        "project_root = os.path.join(drive_root, 'MyDrive/Colab Notebooks/cmpe540/final-project')\n",
        "source_root = os.path.join(project_root, 'src')\n",
        "sys.path.append(source_root)\n",
        "data_folder_path = os.path.join(project_root, 'data')\n",
        "raw_data_folder_path = os.path.join(data_folder_path, 'raw')\n",
        "processed_data_folder_path = os.path.join(data_folder_path, 'processed')\n",
        "# train_data_path = os.path.join(processed_data_folder_path, \"train_data.csv\")"
      ],
      "metadata": {
        "id": "Z2WVP8aDxmSS"
      },
      "execution_count": null,
      "outputs": []
    },
    {
      "cell_type": "code",
      "source": [
        "import pandas as pd\n",
        "import numpy as np\n",
        "\n",
        "np.random.seed(42)\n",
        "\n",
        "# Paths for model data\n",
        "model_data_path = os.path.join(processed_data_folder_path, \"model_data\")\n",
        "ndo_matrix_path = os.path.join(output_dir, \"days_to_departure_matrix.npy\")\n",
        "\n",
        "# Read the data, carry out final changes\n",
        "departure_date_series = pd.read_csv(\"lstm_data/departure_date_series.csv\", index_col=0, parse_dates=True).squeeze(\"columns\")\n",
        "days_to_departure_matrix = np.load(\"lstm_data/days_to_departure_matrix.npy\")\n",
        "# full_set = pd.read_csv(train_data_path)\n",
        "# full_set = full_set.drop(['flightDate'], axis=1)\n",
        "full_set['isNonStop'] = full_set['isNonStop'].astype(int)"
      ],
      "metadata": {
        "id": "UG-pGKSdx0_C"
      },
      "execution_count": null,
      "outputs": []
    },
    {
      "cell_type": "code",
      "source": [
        "import torch\n",
        "from torch.utils.data import DataLoader, Dataset\n",
        "\n",
        "# Define the dataset\n",
        "class TicketPriceDataset(Dataset):\n",
        "    def __init__(self, X, y):\n",
        "      self.X = torch.tensor(X, dtype=torch.float32)\n",
        "      self.y = torch.tensor(y, dtype=torch.float32)\n",
        "\n",
        "    def __len__(self):\n",
        "      return len(self.X)\n",
        "\n",
        "    def __getitem__(self, idx):\n",
        "      return self.X[idx], self.y[idx]"
      ],
      "metadata": {
        "id": "fjv-QjXzz8Pn"
      },
      "execution_count": null,
      "outputs": []
    },
    {
      "cell_type": "code",
      "source": [
        "import torch\n",
        "import torch.nn as nn\n",
        "import torch.nn.functional as F\n",
        "\n",
        "\n",
        "# Define the model\n",
        "class TicketPriceModel(nn.Module):\n",
        "    def __init__(self):\n",
        "      super(TicketPriceModel, self).__init__()\n",
        "      # 3-layer LSTM block\n",
        "      self.lstm = nn.LSTM(input_size=36, hidden_size=64, num_layers=3, batch_first=True)\n",
        "\n",
        "      # 3-layer 1D Conv block\n",
        "      self.conv1 = nn.Conv1d(in_channels=64, out_channels=32, kernel_size=3, padding=1)\n",
        "      self.conv2 = nn.Conv1d(in_channels=32, out_channels=16, kernel_size=3, padding=1)\n",
        "      self.conv3 = nn.Conv1d(in_channels=16, out_channels=16, kernel_size=3, padding=1)\n",
        "\n",
        "      # Fully connected layers\n",
        "      # Calculate the input size dynamically based on the output of the convolutional layers\n",
        "      self.fc1_input_size = self._get_fc1_input_size(torch.randn(1, 36))  # Pass a dummy input to calculate size\n",
        "      self.fc1 = nn.Linear(self.fc1_input_size, 128)\n",
        "      self.fc2 = nn.Linear(128, 1)  # Output: ticket price\n",
        "\n",
        "      # Activation function\n",
        "      self.relu = nn.ReLU()\n",
        "\n",
        "    def _get_fc1_input_size(self, x):\n",
        "      \"\"\"Calculates the input size for fc1 based on a dummy input.\"\"\"\n",
        "      x, _ = self.lstm(x)\n",
        "      if x.dim() == 2:\n",
        "        x = x.unsqueeze(1)\n",
        "      x = x.permute(0, 2, 1)\n",
        "      x = self.conv1(x)\n",
        "      x = F.relu(x)\n",
        "      x = self.conv2(x)\n",
        "      x = F.relu(x)\n",
        "      x = self.conv3(x)\n",
        "      x = F.relu(x)\n",
        "      return x.view(x.size(0), -1).shape[1]\n",
        "\n",
        "    def forward(self, x):\n",
        "      # LSTM block\n",
        "      x, _ = self.lstm(x)\n",
        "\n",
        "      # Check if x has 3 dimensions, if not, add a dimension\n",
        "      if x.dim() == 2:  # If x has only 2 dimensions\n",
        "        x = x.unsqueeze(1)  # Add a dimension at position 1\n",
        "\n",
        "      # Permute for Conv1D: (batch_size, channels=64, seq_length)\n",
        "      x = x.permute(0, 2, 1)\n",
        "\n",
        "      # Pass through Conv layers\n",
        "      x = self.conv1(x)  # -> (batch_size, 32, seq_length')\n",
        "      x = F.relu(x)\n",
        "      x = self.conv2(x)  # -> (batch_size, 16, seq_length'')\n",
        "      x = F.relu(x)\n",
        "      x = self.conv3(x)  # -> (batch_size, 16, seq_length''')\n",
        "      x = F.relu(x)\n",
        "\n",
        "\n",
        "      # Flatten for fully connected layers\n",
        "      x = x.view(x.size(0), -1)  # (batch_size, 64 * 16)\n",
        "\n",
        "      # Fully-connected layers\n",
        "      x = self.fc1(x)\n",
        "      x = F.relu(x)\n",
        "      x = self.fc2(x)  # -> (batch_size, 1)\n",
        "\n",
        "      return x\n"
      ],
      "metadata": {
        "id": "edITQA8KyRGQ"
      },
      "execution_count": null,
      "outputs": []
    },
    {
      "cell_type": "code",
      "source": [
        "from tqdm import tqdm\n",
        "import time\n",
        "from datetime import datetime, timedelta\n",
        "import matplotlib.pyplot as plt\n",
        "\n",
        "\n",
        "\n",
        "# Training flow\n",
        "def train_model(model, dataloader, optimizer, loss_fn, num_epochs, device, results_dir): # Add device parameter\n",
        "    # File paths for saving loss data\n",
        "    epoch_loss_file = os.path.join(results_dir, \"epoch_losses.txt\")\n",
        "    epoch_losses = []\n",
        "    val_losses = []\n",
        "    best_val_loss = float('inf')\n",
        "\n",
        "    for epoch in range(num_epochs):\n",
        "      start_time = time.time()\n",
        "      epoch_loss = 0.0\n",
        "\n",
        "      model.train()\n",
        "      for batch_idx, (inputs, targets) in enumerate(tqdm(dataloader, desc=f\"Epoch {epoch + 1}/{num_epochs}\", leave=False)):\n",
        "        # Move data to device\n",
        "        inputs, targets = inputs.to(device), targets.to(device)\n",
        "\n",
        "        optimizer.zero_grad()  # Zero the gradients\n",
        "        outputs = model(inputs)  # Forward pass\n",
        "        loss = loss_fn(outputs.squeeze(), targets)  # Compute loss\n",
        "        loss.backward()  # Backpropagation\n",
        "        optimizer.step()  # Update parameters\n",
        "\n",
        "        epoch_loss += loss.item()\n",
        "\n",
        "      # Epoch summary metrics\n",
        "      current_lr = optimizer.param_groups[0]['lr']\n",
        "      epoch_duration = time.time() - start_time\n",
        "      epoch_loss /= len(dataloader)\n",
        "      epoch_losses.append(epoch_loss)\n",
        "\n",
        "      # Validation loop\n",
        "      model.eval()\n",
        "      with torch.no_grad():\n",
        "          val_loss = 0.0\n",
        "          for inputs, targets in tqdm(val_loader, desc=f\"Epoch {epoch + 1}/{num_epochs} (Validation)\", leave=False):\n",
        "              inputs, targets = inputs.to(device), targets.to(device)\n",
        "              outputs = model(inputs)\n",
        "              loss = loss_fn(outputs.squeeze(), targets)\n",
        "              val_loss += loss.item()\n",
        "\n",
        "          val_loss /= len(val_loader)\n",
        "          val_losses.append(val_loss)\n",
        "\n",
        "          if val_loss < best_val_loss:\n",
        "              best_val_loss = val_loss\n",
        "              model_save_path = os.path.join(results_dir, 'best_model.pth')\n",
        "              torch.save(model.state_dict(), model_save_path)\n",
        "              print(f\"Best model saved to: {model_save_path}\")\n",
        "\n",
        "      current_lr = optimizer.param_groups[0]['lr']\n",
        "      epoch_duration = time.time() - start_time\n",
        "\n",
        "      print(f\"Epoch {epoch + 1}/{num_epochs}, Learning Rate: {current_lr}, Training Loss: {epoch_loss:.4f}, Validation Loss: {val_loss:.4f}\")\n",
        "\n",
        "      with open(epoch_loss_file, \"a\") as f:\n",
        "        # Save epoch summary\n",
        "        epoch_summary = (\n",
        "            f\"Epoch [{epoch + 1}/{num_epochs}] completed in {str(timedelta(seconds=int(epoch_duration)))}\\n\"\n",
        "            f\"Learning Rate: {current_lr}\\n\"\n",
        "            f\"Average Training Loss: {epoch_loss:.4f}\\n\"\n",
        "            f\"Average Validation Loss: {val_loss:.4f}\\n\"\n",
        "        )\n",
        "        print(epoch_summary.strip())\n",
        "        f.write(epoch_summary)\n",
        "\n",
        "    # Save final model\n",
        "    model_save_path = os.path.join(results_dir, 'final_trained_model.pth')\n",
        "    torch.save(model.state_dict(), model_save_path)\n",
        "    print(f\"Final trained model saved to: {model_save_path}\")\n",
        "\n",
        "    # Save and display the training/validation loss plot\n",
        "    plot_filename_drive = os.path.join(results_dir, 'training_validation_loss_plot.png')\n",
        "    plt.figure()\n",
        "    plt.plot(range(1, num_epochs + 1), epoch_losses, marker='o', label=\"Training Loss\")\n",
        "    plt.plot(range(1, num_epochs + 1), val_losses, marker='x', label=\"Validation Loss\")\n",
        "    plt.xlabel('Epoch')\n",
        "    plt.ylabel('Average Loss')\n",
        "    plt.title('Training and Validation Loss Over Epochs')\n",
        "    plt.legend()  # Add legend\n",
        "    plt.grid(True)\n",
        "    plt.savefig(plot_filename_drive)\n",
        "    print(f\"Training/Validation loss plot saved to: {plot_filename_drive}\")\n",
        "    plt.show()\n"
      ],
      "metadata": {
        "id": "4_UIdtZI6rbp"
      },
      "execution_count": null,
      "outputs": []
    },
    {
      "cell_type": "code",
      "source": [
        "# Remove data of dates with instance count < 30\n",
        "unq_ndo_counts = full_set.groupby(['NDepartureDate'])['ndo'].nunique()\n",
        "dates_to_remove = unq_ndo_counts[unq_ndo_counts < 30].reset_index()['NDepartureDate'].tolist()\n",
        "full_set = full_set[~full_set['NDepartureDate'].isin(dates_to_remove)]"
      ],
      "metadata": {
        "collapsed": true,
        "id": "uZYmyf9_3v1m"
      },
      "execution_count": null,
      "outputs": []
    },
    {
      "cell_type": "code",
      "source": [
        "# Split training and test set (last 30 instances for test set)\n",
        "max_date = full_set['NDepartureDate'].max()\n",
        "train_set = full_set[full_set['NDepartureDate'] < max_date]\n",
        "\n",
        "# Save test set to use in evaluation\n",
        "test_set = full_set[full_set['NDepartureDate'] == max_date]\n",
        "test_set.to_csv(os.path.join(results_dir, \"test_data.csv\"), index=False)"
      ],
      "metadata": {
        "id": "WSTvtnvZ9CuU"
      },
      "execution_count": null,
      "outputs": []
    },
    {
      "cell_type": "code",
      "source": [
        "from sklearn.model_selection import train_test_split\n",
        "from torch.utils.data import DataLoader\n",
        "\n",
        "batch_size = 256\n",
        "\n",
        "\n",
        "# Splitting with 80% for training and 20% for validation\n",
        "X_train, X_val, y_train, y_val = train_test_split(\n",
        "    train_set.drop(columns=['baseFare']).values, train_set['baseFare'].values, test_size=0.2, shuffle=False\n",
        ")\n",
        "\n",
        "# Dataloaders for training, validation and test\n",
        "train_loader = DataLoader(\n",
        "    TicketPriceDataset(X_train, y_train),\n",
        "    batch_size=batch_size,\n",
        "    shuffle=False\n",
        ")\n",
        "\n",
        "val_loader = DataLoader(\n",
        "    TicketPriceDataset(X_val, y_val),\n",
        "    batch_size=int(batch_size/4),\n",
        "    shuffle=False\n",
        ")"
      ],
      "metadata": {
        "id": "eOVqdU08_8BT"
      },
      "execution_count": null,
      "outputs": []
    },
    {
      "cell_type": "code",
      "source": [
        "import torch.optim as optim\n",
        "\n",
        "# Hyperparameters\n",
        "learning_rate = 0.00002\n",
        "num_epochs = 50\n",
        "\n",
        "# Check if GPU is available\n",
        "device = torch.device(\"cuda\" if torch.cuda.is_available() else \"cpu\")\n",
        "\n",
        "# Model, optimizer, and loss function\n",
        "model = TicketPriceModel().to(device)\n",
        "optimizer = optim.Adam(model.parameters(), lr=learning_rate)\n",
        "loss_fn = nn.MSELoss()"
      ],
      "metadata": {
        "id": "5KbI3Y9v0168"
      },
      "execution_count": null,
      "outputs": []
    },
    {
      "cell_type": "code",
      "source": [
        "from datetime import datetime\n",
        "import os\n",
        "\n",
        "## Artifact paths (checkpoints, plots, metrics)\n",
        "timestamp = datetime.now().strftime(\"%Y%m%d_%H%M%S\")\n",
        "results_dir = os.path.join(project_root, 'results', timestamp)\n",
        "\n",
        "# Ensure artifact paths exist\n",
        "if not os.path.exists(results_dir):\n",
        "    os.makedirs(results_dir)\n",
        "    print(f'Directory created at {results_dir}')\n",
        "else:\n",
        "  print(f'Directory {results_dir} already exists.')"
      ],
      "metadata": {
        "colab": {
          "base_uri": "https://localhost:8080/"
        },
        "id": "NTDwULf-8Tl4",
        "outputId": "7027d7c0-be0e-4bdc-e9e6-f404ee02e44b"
      },
      "execution_count": null,
      "outputs": [
        {
          "output_type": "stream",
          "name": "stdout",
          "text": [
            "Directory created at /content/drive/MyDrive/Colab Notebooks/cmpe540/final-project/results/20250113_191030\n"
          ]
        }
      ]
    },
    {
      "cell_type": "code",
      "source": [
        "# Train the model\n",
        "train_model(model, train_loader, optimizer, loss_fn, num_epochs, device, results_dir)"
      ],
      "metadata": {
        "id": "6Q84WneG3wt9",
        "colab": {
          "base_uri": "https://localhost:8080/",
          "height": 1000
        },
        "outputId": "f4aee459-bcff-41c5-a273-1f9160a44351",
        "collapsed": true
      },
      "execution_count": null,
      "outputs": [
        {
          "output_type": "stream",
          "name": "stderr",
          "text": []
        },
        {
          "output_type": "stream",
          "name": "stdout",
          "text": [
            "Best model saved to: /content/drive/MyDrive/Colab Notebooks/cmpe540/final-project/results/20250113_191030/best_model.pth\n",
            "Epoch 1/50, Learning Rate: 2e-05, Training Loss: 135436.0867, Validation Loss: 93894.3919\n",
            "Epoch [1/50] completed in 0:00:03\n",
            "Learning Rate: 2e-05\n",
            "Average Training Loss: 135436.0867\n",
            "Average Validation Loss: 93894.3919\n"
          ]
        },
        {
          "output_type": "stream",
          "name": "stderr",
          "text": []
        },
        {
          "output_type": "stream",
          "name": "stdout",
          "text": [
            "Best model saved to: /content/drive/MyDrive/Colab Notebooks/cmpe540/final-project/results/20250113_191030/best_model.pth\n",
            "Epoch 2/50, Learning Rate: 2e-05, Training Loss: 135252.5104, Validation Loss: 93619.2741\n",
            "Epoch [2/50] completed in 0:00:03\n",
            "Learning Rate: 2e-05\n",
            "Average Training Loss: 135252.5104\n",
            "Average Validation Loss: 93619.2741\n"
          ]
        },
        {
          "output_type": "stream",
          "name": "stderr",
          "text": []
        },
        {
          "output_type": "stream",
          "name": "stdout",
          "text": [
            "Best model saved to: /content/drive/MyDrive/Colab Notebooks/cmpe540/final-project/results/20250113_191030/best_model.pth\n",
            "Epoch 3/50, Learning Rate: 2e-05, Training Loss: 134521.0216, Validation Loss: 92622.5400\n",
            "Epoch [3/50] completed in 0:00:02\n",
            "Learning Rate: 2e-05\n",
            "Average Training Loss: 134521.0216\n",
            "Average Validation Loss: 92622.5400\n"
          ]
        },
        {
          "output_type": "stream",
          "name": "stderr",
          "text": []
        },
        {
          "output_type": "stream",
          "name": "stdout",
          "text": [
            "Best model saved to: /content/drive/MyDrive/Colab Notebooks/cmpe540/final-project/results/20250113_191030/best_model.pth\n",
            "Epoch 4/50, Learning Rate: 2e-05, Training Loss: 132277.5035, Validation Loss: 89888.5585\n",
            "Epoch [4/50] completed in 0:00:03\n",
            "Learning Rate: 2e-05\n",
            "Average Training Loss: 132277.5035\n",
            "Average Validation Loss: 89888.5585\n"
          ]
        },
        {
          "output_type": "stream",
          "name": "stderr",
          "text": []
        },
        {
          "output_type": "stream",
          "name": "stdout",
          "text": [
            "Best model saved to: /content/drive/MyDrive/Colab Notebooks/cmpe540/final-project/results/20250113_191030/best_model.pth\n",
            "Epoch 5/50, Learning Rate: 2e-05, Training Loss: 126948.7691, Validation Loss: 84060.8718\n",
            "Epoch [5/50] completed in 0:00:03\n",
            "Learning Rate: 2e-05\n",
            "Average Training Loss: 126948.7691\n",
            "Average Validation Loss: 84060.8718\n"
          ]
        },
        {
          "output_type": "stream",
          "name": "stderr",
          "text": []
        },
        {
          "output_type": "stream",
          "name": "stdout",
          "text": [
            "Best model saved to: /content/drive/MyDrive/Colab Notebooks/cmpe540/final-project/results/20250113_191030/best_model.pth\n",
            "Epoch 6/50, Learning Rate: 2e-05, Training Loss: 116805.9415, Validation Loss: 74039.2169\n",
            "Epoch [6/50] completed in 0:00:03\n",
            "Learning Rate: 2e-05\n",
            "Average Training Loss: 116805.9415\n",
            "Average Validation Loss: 74039.2169\n"
          ]
        },
        {
          "output_type": "stream",
          "name": "stderr",
          "text": []
        },
        {
          "output_type": "stream",
          "name": "stdout",
          "text": [
            "Best model saved to: /content/drive/MyDrive/Colab Notebooks/cmpe540/final-project/results/20250113_191030/best_model.pth\n",
            "Epoch 7/50, Learning Rate: 2e-05, Training Loss: 100816.3564, Validation Loss: 59907.2472\n",
            "Epoch [7/50] completed in 0:00:03\n",
            "Learning Rate: 2e-05\n",
            "Average Training Loss: 100816.3564\n",
            "Average Validation Loss: 59907.2472\n"
          ]
        },
        {
          "output_type": "stream",
          "name": "stderr",
          "text": []
        },
        {
          "output_type": "stream",
          "name": "stdout",
          "text": [
            "Best model saved to: /content/drive/MyDrive/Colab Notebooks/cmpe540/final-project/results/20250113_191030/best_model.pth\n",
            "Epoch 8/50, Learning Rate: 2e-05, Training Loss: 79789.8514, Validation Loss: 43802.3108\n",
            "Epoch [8/50] completed in 0:00:02\n",
            "Learning Rate: 2e-05\n",
            "Average Training Loss: 79789.8514\n",
            "Average Validation Loss: 43802.3108\n"
          ]
        },
        {
          "output_type": "stream",
          "name": "stderr",
          "text": []
        },
        {
          "output_type": "stream",
          "name": "stdout",
          "text": [
            "Best model saved to: /content/drive/MyDrive/Colab Notebooks/cmpe540/final-project/results/20250113_191030/best_model.pth\n",
            "Epoch 9/50, Learning Rate: 2e-05, Training Loss: 56967.4755, Validation Loss: 29686.1742\n",
            "Epoch [9/50] completed in 0:00:02\n",
            "Learning Rate: 2e-05\n",
            "Average Training Loss: 56967.4755\n",
            "Average Validation Loss: 29686.1742\n"
          ]
        },
        {
          "output_type": "stream",
          "name": "stderr",
          "text": []
        },
        {
          "output_type": "stream",
          "name": "stdout",
          "text": [
            "Best model saved to: /content/drive/MyDrive/Colab Notebooks/cmpe540/final-project/results/20250113_191030/best_model.pth\n",
            "Epoch 10/50, Learning Rate: 2e-05, Training Loss: 37328.5360, Validation Loss: 21617.0210\n",
            "Epoch [10/50] completed in 0:00:03\n",
            "Learning Rate: 2e-05\n",
            "Average Training Loss: 37328.5360\n",
            "Average Validation Loss: 21617.0210\n"
          ]
        },
        {
          "output_type": "stream",
          "name": "stderr",
          "text": []
        },
        {
          "output_type": "stream",
          "name": "stdout",
          "text": [
            "Best model saved to: /content/drive/MyDrive/Colab Notebooks/cmpe540/final-project/results/20250113_191030/best_model.pth\n",
            "Epoch 11/50, Learning Rate: 2e-05, Training Loss: 24885.3355, Validation Loss: 20070.0772\n",
            "Epoch [11/50] completed in 0:00:03\n",
            "Learning Rate: 2e-05\n",
            "Average Training Loss: 24885.3355\n",
            "Average Validation Loss: 20070.0772\n"
          ]
        },
        {
          "output_type": "stream",
          "name": "stderr",
          "text": []
        },
        {
          "output_type": "stream",
          "name": "stdout",
          "text": [
            "Epoch 12/50, Learning Rate: 2e-05, Training Loss: 19460.2692, Validation Loss: 21515.4788\n",
            "Epoch [12/50] completed in 0:00:03\n",
            "Learning Rate: 2e-05\n",
            "Average Training Loss: 19460.2692\n",
            "Average Validation Loss: 21515.4788\n"
          ]
        },
        {
          "output_type": "stream",
          "name": "stderr",
          "text": []
        },
        {
          "output_type": "stream",
          "name": "stdout",
          "text": [
            "Epoch 13/50, Learning Rate: 2e-05, Training Loss: 17838.2071, Validation Loss: 22795.2777\n",
            "Epoch [13/50] completed in 0:00:03\n",
            "Learning Rate: 2e-05\n",
            "Average Training Loss: 17838.2071\n",
            "Average Validation Loss: 22795.2777\n"
          ]
        },
        {
          "output_type": "stream",
          "name": "stderr",
          "text": []
        },
        {
          "output_type": "stream",
          "name": "stdout",
          "text": [
            "Epoch 14/50, Learning Rate: 2e-05, Training Loss: 17449.3043, Validation Loss: 23329.7619\n",
            "Epoch [14/50] completed in 0:00:03\n",
            "Learning Rate: 2e-05\n",
            "Average Training Loss: 17449.3043\n",
            "Average Validation Loss: 23329.7619\n"
          ]
        },
        {
          "output_type": "stream",
          "name": "stderr",
          "text": []
        },
        {
          "output_type": "stream",
          "name": "stdout",
          "text": [
            "Epoch 15/50, Learning Rate: 2e-05, Training Loss: 17355.5577, Validation Loss: 23480.9915\n",
            "Epoch [15/50] completed in 0:00:03\n",
            "Learning Rate: 2e-05\n",
            "Average Training Loss: 17355.5577\n",
            "Average Validation Loss: 23480.9915\n"
          ]
        },
        {
          "output_type": "stream",
          "name": "stderr",
          "text": []
        },
        {
          "output_type": "stream",
          "name": "stdout",
          "text": [
            "Epoch 16/50, Learning Rate: 2e-05, Training Loss: 17330.8240, Validation Loss: 23505.8739\n",
            "Epoch [16/50] completed in 0:00:03\n",
            "Learning Rate: 2e-05\n",
            "Average Training Loss: 17330.8240\n",
            "Average Validation Loss: 23505.8739\n"
          ]
        },
        {
          "output_type": "stream",
          "name": "stderr",
          "text": []
        },
        {
          "output_type": "stream",
          "name": "stdout",
          "text": [
            "Epoch 17/50, Learning Rate: 2e-05, Training Loss: 17324.4294, Validation Loss: 23494.8627\n",
            "Epoch [17/50] completed in 0:00:03\n",
            "Learning Rate: 2e-05\n",
            "Average Training Loss: 17324.4294\n",
            "Average Validation Loss: 23494.8627\n"
          ]
        },
        {
          "output_type": "stream",
          "name": "stderr",
          "text": []
        },
        {
          "output_type": "stream",
          "name": "stdout",
          "text": [
            "Epoch 18/50, Learning Rate: 2e-05, Training Loss: 17322.6110, Validation Loss: 23481.4633\n",
            "Epoch [18/50] completed in 0:00:03\n",
            "Learning Rate: 2e-05\n",
            "Average Training Loss: 17322.6110\n",
            "Average Validation Loss: 23481.4633\n"
          ]
        },
        {
          "output_type": "stream",
          "name": "stderr",
          "text": []
        },
        {
          "output_type": "stream",
          "name": "stdout",
          "text": [
            "Epoch 19/50, Learning Rate: 2e-05, Training Loss: 17322.3646, Validation Loss: 23465.1147\n",
            "Epoch [19/50] completed in 0:00:03\n",
            "Learning Rate: 2e-05\n",
            "Average Training Loss: 17322.3646\n",
            "Average Validation Loss: 23465.1147\n"
          ]
        },
        {
          "output_type": "stream",
          "name": "stderr",
          "text": []
        },
        {
          "output_type": "stream",
          "name": "stdout",
          "text": [
            "Epoch 20/50, Learning Rate: 2e-05, Training Loss: 17322.4230, Validation Loss: 23458.7792\n",
            "Epoch [20/50] completed in 0:00:03\n",
            "Learning Rate: 2e-05\n",
            "Average Training Loss: 17322.4230\n",
            "Average Validation Loss: 23458.7792\n"
          ]
        },
        {
          "output_type": "stream",
          "name": "stderr",
          "text": []
        },
        {
          "output_type": "stream",
          "name": "stdout",
          "text": [
            "Epoch 21/50, Learning Rate: 2e-05, Training Loss: 17322.4432, Validation Loss: 23454.3741\n",
            "Epoch [21/50] completed in 0:00:03\n",
            "Learning Rate: 2e-05\n",
            "Average Training Loss: 17322.4432\n",
            "Average Validation Loss: 23454.3741\n"
          ]
        },
        {
          "output_type": "stream",
          "name": "stderr",
          "text": []
        },
        {
          "output_type": "stream",
          "name": "stdout",
          "text": [
            "Epoch 22/50, Learning Rate: 2e-05, Training Loss: 17322.3593, Validation Loss: 23447.4403\n",
            "Epoch [22/50] completed in 0:00:03\n",
            "Learning Rate: 2e-05\n",
            "Average Training Loss: 17322.3593\n",
            "Average Validation Loss: 23447.4403\n"
          ]
        },
        {
          "output_type": "stream",
          "name": "stderr",
          "text": []
        },
        {
          "output_type": "stream",
          "name": "stdout",
          "text": [
            "Epoch 23/50, Learning Rate: 2e-05, Training Loss: 17322.1812, Validation Loss: 23445.2440\n",
            "Epoch [23/50] completed in 0:00:03\n",
            "Learning Rate: 2e-05\n",
            "Average Training Loss: 17322.1812\n",
            "Average Validation Loss: 23445.2440\n"
          ]
        },
        {
          "output_type": "stream",
          "name": "stderr",
          "text": []
        },
        {
          "output_type": "stream",
          "name": "stdout",
          "text": [
            "Epoch 24/50, Learning Rate: 2e-05, Training Loss: 17321.9150, Validation Loss: 23443.9390\n",
            "Epoch [24/50] completed in 0:00:03\n",
            "Learning Rate: 2e-05\n",
            "Average Training Loss: 17321.9150\n",
            "Average Validation Loss: 23443.9390\n"
          ]
        },
        {
          "output_type": "stream",
          "name": "stderr",
          "text": []
        },
        {
          "output_type": "stream",
          "name": "stdout",
          "text": [
            "Epoch 25/50, Learning Rate: 2e-05, Training Loss: 17321.8148, Validation Loss: 23443.1989\n",
            "Epoch [25/50] completed in 0:00:03\n",
            "Learning Rate: 2e-05\n",
            "Average Training Loss: 17321.8148\n",
            "Average Validation Loss: 23443.1989\n"
          ]
        },
        {
          "output_type": "stream",
          "name": "stderr",
          "text": []
        },
        {
          "output_type": "stream",
          "name": "stdout",
          "text": [
            "Epoch 26/50, Learning Rate: 2e-05, Training Loss: 17321.7813, Validation Loss: 23442.6580\n",
            "Epoch [26/50] completed in 0:00:03\n",
            "Learning Rate: 2e-05\n",
            "Average Training Loss: 17321.7813\n",
            "Average Validation Loss: 23442.6580\n"
          ]
        },
        {
          "output_type": "stream",
          "name": "stderr",
          "text": []
        },
        {
          "output_type": "stream",
          "name": "stdout",
          "text": [
            "Epoch 27/50, Learning Rate: 2e-05, Training Loss: 17321.7349, Validation Loss: 23442.0801\n",
            "Epoch [27/50] completed in 0:00:03\n",
            "Learning Rate: 2e-05\n",
            "Average Training Loss: 17321.7349\n",
            "Average Validation Loss: 23442.0801\n"
          ]
        },
        {
          "output_type": "stream",
          "name": "stderr",
          "text": []
        },
        {
          "output_type": "stream",
          "name": "stdout",
          "text": [
            "Epoch 28/50, Learning Rate: 2e-05, Training Loss: 17321.4402, Validation Loss: 23441.7829\n",
            "Epoch [28/50] completed in 0:00:03\n",
            "Learning Rate: 2e-05\n",
            "Average Training Loss: 17321.4402\n",
            "Average Validation Loss: 23441.7829\n"
          ]
        },
        {
          "output_type": "stream",
          "name": "stderr",
          "text": []
        },
        {
          "output_type": "stream",
          "name": "stdout",
          "text": [
            "Epoch 29/50, Learning Rate: 2e-05, Training Loss: 17321.3415, Validation Loss: 23441.1588\n",
            "Epoch [29/50] completed in 0:00:02\n",
            "Learning Rate: 2e-05\n",
            "Average Training Loss: 17321.3415\n",
            "Average Validation Loss: 23441.1588\n"
          ]
        },
        {
          "output_type": "stream",
          "name": "stderr",
          "text": []
        },
        {
          "output_type": "stream",
          "name": "stdout",
          "text": [
            "Epoch 30/50, Learning Rate: 2e-05, Training Loss: 17321.2285, Validation Loss: 23440.0420\n",
            "Epoch [30/50] completed in 0:00:03\n",
            "Learning Rate: 2e-05\n",
            "Average Training Loss: 17321.2285\n",
            "Average Validation Loss: 23440.0420\n"
          ]
        },
        {
          "output_type": "stream",
          "name": "stderr",
          "text": []
        },
        {
          "output_type": "stream",
          "name": "stdout",
          "text": [
            "Epoch 31/50, Learning Rate: 2e-05, Training Loss: 17321.0969, Validation Loss: 23439.9788\n",
            "Epoch [31/50] completed in 0:00:03\n",
            "Learning Rate: 2e-05\n",
            "Average Training Loss: 17321.0969\n",
            "Average Validation Loss: 23439.9788\n"
          ]
        },
        {
          "output_type": "stream",
          "name": "stderr",
          "text": []
        },
        {
          "output_type": "stream",
          "name": "stdout",
          "text": [
            "Epoch 32/50, Learning Rate: 2e-05, Training Loss: 17320.9942, Validation Loss: 23439.9013\n",
            "Epoch [32/50] completed in 0:00:02\n",
            "Learning Rate: 2e-05\n",
            "Average Training Loss: 17320.9942\n",
            "Average Validation Loss: 23439.9013\n"
          ]
        },
        {
          "output_type": "stream",
          "name": "stderr",
          "text": []
        },
        {
          "output_type": "stream",
          "name": "stdout",
          "text": [
            "Epoch 33/50, Learning Rate: 2e-05, Training Loss: 17320.9261, Validation Loss: 23439.8579\n",
            "Epoch [33/50] completed in 0:00:02\n",
            "Learning Rate: 2e-05\n",
            "Average Training Loss: 17320.9261\n",
            "Average Validation Loss: 23439.8579\n"
          ]
        },
        {
          "output_type": "stream",
          "name": "stderr",
          "text": []
        },
        {
          "output_type": "stream",
          "name": "stdout",
          "text": [
            "Epoch 34/50, Learning Rate: 2e-05, Training Loss: 17320.8190, Validation Loss: 23439.8100\n",
            "Epoch [34/50] completed in 0:00:03\n",
            "Learning Rate: 2e-05\n",
            "Average Training Loss: 17320.8190\n",
            "Average Validation Loss: 23439.8100\n"
          ]
        },
        {
          "output_type": "stream",
          "name": "stderr",
          "text": []
        },
        {
          "output_type": "stream",
          "name": "stdout",
          "text": [
            "Epoch 35/50, Learning Rate: 2e-05, Training Loss: 17320.7729, Validation Loss: 23439.8145\n",
            "Epoch [35/50] completed in 0:00:03\n",
            "Learning Rate: 2e-05\n",
            "Average Training Loss: 17320.7729\n",
            "Average Validation Loss: 23439.8145\n"
          ]
        },
        {
          "output_type": "stream",
          "name": "stderr",
          "text": []
        },
        {
          "output_type": "stream",
          "name": "stdout",
          "text": [
            "Epoch 36/50, Learning Rate: 2e-05, Training Loss: 17320.6512, Validation Loss: 23439.4505\n",
            "Epoch [36/50] completed in 0:00:03\n",
            "Learning Rate: 2e-05\n",
            "Average Training Loss: 17320.6512\n",
            "Average Validation Loss: 23439.4505\n"
          ]
        },
        {
          "output_type": "stream",
          "name": "stderr",
          "text": []
        },
        {
          "output_type": "stream",
          "name": "stdout",
          "text": [
            "Epoch 37/50, Learning Rate: 2e-05, Training Loss: 17320.6579, Validation Loss: 23439.4375\n",
            "Epoch [37/50] completed in 0:00:03\n",
            "Learning Rate: 2e-05\n",
            "Average Training Loss: 17320.6579\n",
            "Average Validation Loss: 23439.4375\n"
          ]
        },
        {
          "output_type": "stream",
          "name": "stderr",
          "text": []
        },
        {
          "output_type": "stream",
          "name": "stdout",
          "text": [
            "Epoch 38/50, Learning Rate: 2e-05, Training Loss: 17320.5794, Validation Loss: 23439.4167\n",
            "Epoch [38/50] completed in 0:00:03\n",
            "Learning Rate: 2e-05\n",
            "Average Training Loss: 17320.5794\n",
            "Average Validation Loss: 23439.4167\n"
          ]
        },
        {
          "output_type": "stream",
          "name": "stderr",
          "text": []
        },
        {
          "output_type": "stream",
          "name": "stdout",
          "text": [
            "Epoch 39/50, Learning Rate: 2e-05, Training Loss: 17320.6588, Validation Loss: 23439.2877\n",
            "Epoch [39/50] completed in 0:00:03\n",
            "Learning Rate: 2e-05\n",
            "Average Training Loss: 17320.6588\n",
            "Average Validation Loss: 23439.2877\n"
          ]
        },
        {
          "output_type": "stream",
          "name": "stderr",
          "text": []
        },
        {
          "output_type": "stream",
          "name": "stdout",
          "text": [
            "Epoch 40/50, Learning Rate: 2e-05, Training Loss: 17320.6927, Validation Loss: 23439.2795\n",
            "Epoch [40/50] completed in 0:00:03\n",
            "Learning Rate: 2e-05\n",
            "Average Training Loss: 17320.6927\n",
            "Average Validation Loss: 23439.2795\n"
          ]
        },
        {
          "output_type": "stream",
          "name": "stderr",
          "text": []
        },
        {
          "output_type": "stream",
          "name": "stdout",
          "text": [
            "Epoch 41/50, Learning Rate: 2e-05, Training Loss: 17320.6979, Validation Loss: 23440.2665\n",
            "Epoch [41/50] completed in 0:00:03\n",
            "Learning Rate: 2e-05\n",
            "Average Training Loss: 17320.6979\n",
            "Average Validation Loss: 23440.2665\n"
          ]
        },
        {
          "output_type": "stream",
          "name": "stderr",
          "text": []
        },
        {
          "output_type": "stream",
          "name": "stdout",
          "text": [
            "Epoch 42/50, Learning Rate: 2e-05, Training Loss: 17320.6604, Validation Loss: 23440.2751\n",
            "Epoch [42/50] completed in 0:00:03\n",
            "Learning Rate: 2e-05\n",
            "Average Training Loss: 17320.6604\n",
            "Average Validation Loss: 23440.2751\n"
          ]
        },
        {
          "output_type": "stream",
          "name": "stderr",
          "text": []
        },
        {
          "output_type": "stream",
          "name": "stdout",
          "text": [
            "Epoch 43/50, Learning Rate: 2e-05, Training Loss: 17320.6076, Validation Loss: 23440.3397\n",
            "Epoch [43/50] completed in 0:00:03\n",
            "Learning Rate: 2e-05\n",
            "Average Training Loss: 17320.6076\n",
            "Average Validation Loss: 23440.3397\n"
          ]
        },
        {
          "output_type": "stream",
          "name": "stderr",
          "text": []
        },
        {
          "output_type": "stream",
          "name": "stdout",
          "text": [
            "Epoch 44/50, Learning Rate: 2e-05, Training Loss: 17320.6576, Validation Loss: 23440.3651\n",
            "Epoch [44/50] completed in 0:00:03\n",
            "Learning Rate: 2e-05\n",
            "Average Training Loss: 17320.6576\n",
            "Average Validation Loss: 23440.3651\n"
          ]
        },
        {
          "output_type": "stream",
          "name": "stderr",
          "text": []
        },
        {
          "output_type": "stream",
          "name": "stdout",
          "text": [
            "Epoch 45/50, Learning Rate: 2e-05, Training Loss: 17320.6471, Validation Loss: 23440.3478\n",
            "Epoch [45/50] completed in 0:00:03\n",
            "Learning Rate: 2e-05\n",
            "Average Training Loss: 17320.6471\n",
            "Average Validation Loss: 23440.3478\n"
          ]
        },
        {
          "output_type": "stream",
          "name": "stderr",
          "text": []
        },
        {
          "output_type": "stream",
          "name": "stdout",
          "text": [
            "Epoch 46/50, Learning Rate: 2e-05, Training Loss: 17320.6229, Validation Loss: 23440.3701\n",
            "Epoch [46/50] completed in 0:00:03\n",
            "Learning Rate: 2e-05\n",
            "Average Training Loss: 17320.6229\n",
            "Average Validation Loss: 23440.3701\n"
          ]
        },
        {
          "output_type": "stream",
          "name": "stderr",
          "text": []
        },
        {
          "output_type": "stream",
          "name": "stdout",
          "text": [
            "Epoch 47/50, Learning Rate: 2e-05, Training Loss: 17320.5948, Validation Loss: 23440.2451\n",
            "Epoch [47/50] completed in 0:00:03\n",
            "Learning Rate: 2e-05\n",
            "Average Training Loss: 17320.5948\n",
            "Average Validation Loss: 23440.2451\n"
          ]
        },
        {
          "output_type": "stream",
          "name": "stderr",
          "text": []
        },
        {
          "output_type": "stream",
          "name": "stdout",
          "text": [
            "Epoch 48/50, Learning Rate: 2e-05, Training Loss: 17320.5700, Validation Loss: 23440.3093\n",
            "Epoch [48/50] completed in 0:00:02\n",
            "Learning Rate: 2e-05\n",
            "Average Training Loss: 17320.5700\n",
            "Average Validation Loss: 23440.3093\n"
          ]
        },
        {
          "output_type": "stream",
          "name": "stderr",
          "text": []
        },
        {
          "output_type": "stream",
          "name": "stdout",
          "text": [
            "Epoch 49/50, Learning Rate: 2e-05, Training Loss: 17320.6021, Validation Loss: 23440.3659\n",
            "Epoch [49/50] completed in 0:00:03\n",
            "Learning Rate: 2e-05\n",
            "Average Training Loss: 17320.6021\n",
            "Average Validation Loss: 23440.3659\n"
          ]
        },
        {
          "output_type": "stream",
          "name": "stderr",
          "text": []
        },
        {
          "output_type": "stream",
          "name": "stdout",
          "text": [
            "Epoch 50/50, Learning Rate: 2e-05, Training Loss: 17320.6142, Validation Loss: 23440.4554\n",
            "Epoch [50/50] completed in 0:00:03\n",
            "Learning Rate: 2e-05\n",
            "Average Training Loss: 17320.6142\n",
            "Average Validation Loss: 23440.4554\n",
            "Final trained model saved to: /content/drive/MyDrive/Colab Notebooks/cmpe540/final-project/results/20250113_191030/final_trained_model.pth\n",
            "Training/Validation loss plot saved to: /content/drive/MyDrive/Colab Notebooks/cmpe540/final-project/results/20250113_191030/training_validation_loss_plot.png\n"
          ]
        },
        {
          "output_type": "display_data",
          "data": {
            "text/plain": [
              "<Figure size 640x480 with 1 Axes>"
            ],
            "image/png": "[encoded data removed]"
          },
          "metadata": {}
        }
      ]
    }
  ]
}