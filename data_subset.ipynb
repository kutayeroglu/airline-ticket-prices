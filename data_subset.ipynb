{
  "nbformat": 4,
  "nbformat_minor": 0,
  "metadata": {
    "colab": {
      "provenance": [],
      "machine_shape": "hm"
    },
    "kernelspec": {
      "name": "python3",
      "display_name": "Python 3"
    },
    "language_info": {
      "name": "python"
    }
  },
  "cells": [
    {
      "cell_type": "code",
      "execution_count": 1,
      "metadata": {
        "colab": {
          "base_uri": "https://localhost:8080/"
        },
        "id": "Ys7wsJmcC7ww",
        "outputId": "ff03f30e-f458-4ec7-90b6-956c4b8c9596"
      },
      "outputs": [
        {
          "output_type": "stream",
          "name": "stdout",
          "text": [
            "Drive already mounted at /content/drive; to attempt to forcibly remount, call drive.mount(\"/content/drive\", force_remount=True).\n"
          ]
        }
      ],
      "source": [
        "from google.colab import drive\n",
        "drive_root = '/content/drive'\n",
        "drive.mount(drive_root)"
      ]
    },
    {
      "cell_type": "code",
      "source": [
        "import sys\n",
        "import os\n",
        "\n",
        "project_root = os.path.join(drive_root, 'MyDrive/Colab Notebooks/cmpe540/final-project')\n",
        "source_root = os.path.join(project_root, 'src')\n",
        "sys.path.append(source_root)\n",
        "data_folder_path = os.path.join(project_root, 'data')\n",
        "raw_data_folder_path = os.path.join(data_folder_path, 'raw')\n",
        "processed_data_folder_path = os.path.join(data_folder_path, 'processed')"
      ],
      "metadata": {
        "id": "wZzpkm3NDFH5"
      },
      "execution_count": 2,
      "outputs": []
    },
    {
      "cell_type": "code",
      "source": [
        "zip_file_path = raw_data_folder_path + \"flightprices.zip\"\n",
        "# !curl -L -o \"{zip_file_path}\" https://www.kaggle.com/api/v1/datasets/download/dilwong/flightprices"
      ],
      "metadata": {
        "id": "wuTFO3-3EMYo"
      },
      "execution_count": 3,
      "outputs": []
    },
    {
      "cell_type": "code",
      "source": [
        "# import zipfile\n",
        "\n",
        "# with zipfile.ZipFile(zip_file_path, 'r') as zip_ref:\n",
        "#     zip_ref.extractall(processed_data_folder_path)"
      ],
      "metadata": {
        "id": "g1rAEx67FGEq"
      },
      "execution_count": 10,
      "outputs": []
    },
    {
      "cell_type": "code",
      "source": [
        "import pandas as pd\n",
        "\n",
        "# Define flight data path\n",
        "flight_data_path = os.path.join(processed_data_folder_path, 'itineraries.csv')\n",
        "\n",
        "\n",
        "columns_to_keep = [\n",
        "    \"legId\",\n",
        "    \"searchDate\",\n",
        "    \"flightDate\",\n",
        "    \"startingAirport\",\n",
        "    \"destinationAirport\",\n",
        "    \"isBasicEconomy\",\n",
        "    \"isNonStop\",\n",
        "    \"baseFare\",\n",
        "    \"segmentsAirlineName\"\n",
        "]\n",
        "\n",
        "# Specify dtypes for the columns being loaded\n",
        "dtypes = {\n",
        "    \"legId\": \"object\",  # String-like unique identifier\n",
        "    \"searchDate\": \"object\",  # Dates can be parsed later as datetime\n",
        "    \"flightDate\": \"object\",  # Dates can be parsed later as datetime\n",
        "    \"startingAirport\": \"category\",  # Limited unique values\n",
        "    \"destinationAirport\": \"category\",  # Limited unique values\n",
        "    \"isBasicEconomy\": \"bool\",  # Boolean flag\n",
        "    \"isNonStop\": \"bool\",  # Boolean flag\n",
        "    \"baseFare\": \"float32\",  # Currency, floating point\n",
        "    \"segmentsAirlineName\": \"category\"  # Limited unique values\n",
        "}"
      ],
      "metadata": {
        "id": "7-bRQTZKIUEy"
      },
      "execution_count": 4,
      "outputs": []
    },
    {
      "cell_type": "code",
      "source": [
        "from tqdm import tqdm\n",
        "\n",
        "# Initialize an empty list to store chunks\n",
        "chunks = []\n",
        "chunk_size = 10**6  # Number of rows per chunk\n",
        "\n",
        "# Read the CSV in chunks with a progress bar\n",
        "with tqdm(total=os.path.getsize(flight_data_path), desc=\"Reading CSV\") as pbar:\n",
        "    for chunk in pd.read_csv(flight_data_path, usecols=columns_to_keep, dtype=dtypes, chunksize=chunk_size):\n",
        "        chunks.append(chunk)\n",
        "        pbar.update(chunk.memory_usage(deep=True).sum())\n",
        "\n",
        "# Combine all chunks into a single DataFrame\n",
        "flight = pd.concat(chunks, ignore_index=True)"
      ],
      "metadata": {
        "colab": {
          "base_uri": "https://localhost:8080/"
        },
        "id": "TwU2sHZnRFNZ",
        "outputId": "c91b717a-2c98-40c7-b2bb-d33f550c3255"
      },
      "execution_count": 5,
      "outputs": [
        {
          "output_type": "stream",
          "name": "stderr",
          "text": [
            "Reading CSV:  61%|██████▏   | 19057283177/31091834438 [05:14<03:18, 60563696.21it/s]\n"
          ]
        }
      ]
    },
    {
      "cell_type": "code",
      "source": [
        "# Get origin - destination pairs with most data points\n",
        "top_pairs = (\n",
        "    flight.groupby(['startingAirport', 'destinationAirport'])\n",
        "    .size()\n",
        "    .reset_index(name='count')\n",
        "    .sort_values(by='count', ascending=False)\n",
        "    .head(5)\n",
        ")"
      ],
      "metadata": {
        "colab": {
          "base_uri": "https://localhost:8080/"
        },
        "id": "HcLStCJeJzox",
        "outputId": "604cd896-1b49-43ab-b28d-6ba6e2b6b835"
      },
      "execution_count": 6,
      "outputs": [
        {
          "output_type": "stream",
          "name": "stderr",
          "text": [
            "<ipython-input-6-94c4db49536c>:3: FutureWarning: The default of observed=False is deprecated and will be changed to True in a future version of pandas. Pass observed=False to retain current behavior or observed=True to adopt the future default and silence this warning.\n",
            "  flight.groupby(['startingAirport', 'destinationAirport'])\n"
          ]
        }
      ]
    },
    {
      "cell_type": "code",
      "source": [
        "origin_ports = top_pairs['startingAirport'].tolist()\n",
        "destination_ports = top_pairs['destinationAirport'].tolist()\n",
        "\n",
        "# Initial filter to reduce size of dataframe\n",
        "filtered_flight = flight[flight['startingAirport'].isin(origin_ports) & flight['destinationAirport'].isin(destination_ports)]"
      ],
      "metadata": {
        "id": "HnIG5bH5J3Mv"
      },
      "execution_count": 7,
      "outputs": []
    },
    {
      "cell_type": "code",
      "source": [
        "top_pairs['route'] = top_pairs['startingAirport'].astype(str) + '-' + top_pairs['destinationAirport'].astype(str)"
      ],
      "metadata": {
        "id": "OQ42nY23X76p"
      },
      "execution_count": 9,
      "outputs": []
    },
    {
      "cell_type": "code",
      "source": [
        "top_routes = top_pairs['route'].tolist()"
      ],
      "metadata": {
        "id": "6JAG_icFclIZ"
      },
      "execution_count": 11,
      "outputs": []
    },
    {
      "cell_type": "code",
      "source": [
        "filtered_flight['route'] = filtered_flight['startingAirport'].astype(str) + '-' + filtered_flight['destinationAirport'].astype(str)"
      ],
      "metadata": {
        "colab": {
          "base_uri": "https://localhost:8080/"
        },
        "id": "eyI4WQDqb-YM",
        "outputId": "19de2e9f-0552-4a38-9318-3d656da762b9"
      },
      "execution_count": 13,
      "outputs": [
        {
          "output_type": "stream",
          "name": "stderr",
          "text": [
            "<ipython-input-13-ffd3046dd852>:1: SettingWithCopyWarning: \n",
            "A value is trying to be set on a copy of a slice from a DataFrame.\n",
            "Try using .loc[row_indexer,col_indexer] = value instead\n",
            "\n",
            "See the caveats in the documentation: https://pandas.pydata.org/pandas-docs/stable/user_guide/indexing.html#returning-a-view-versus-a-copy\n",
            "  filtered_flight['route'] = filtered_flight['startingAirport'].astype(str) + '-' + filtered_flight['destinationAirport'].astype(str)\n"
          ]
        }
      ]
    },
    {
      "cell_type": "code",
      "source": [
        "filtered_flight = filtered_flight[filtered_flight['route'].isin(top_routes)]"
      ],
      "metadata": {
        "id": "mR6g9KSxcyPZ"
      },
      "execution_count": 15,
      "outputs": []
    },
    {
      "cell_type": "code",
      "source": [
        "# Define the output file path\n",
        "output_file_path = os.path.join(processed_data_folder_path, \"filtered_flight.csv\")"
      ],
      "metadata": {
        "id": "g0vfpzLZdEih"
      },
      "execution_count": 19,
      "outputs": []
    },
    {
      "cell_type": "code",
      "source": [
        "# Write the filtered DataFrame to a CSV file\n",
        "filtered_flight.to_csv(output_file_path, index=False)\n",
        "\n",
        "print(f\"Filtered data has been saved to: {output_file_path}\")"
      ],
      "metadata": {
        "colab": {
          "base_uri": "https://localhost:8080/"
        },
        "id": "ynb65J0BTZsq",
        "outputId": "a3b46b95-e97a-4772-f67c-643393700547"
      },
      "execution_count": 21,
      "outputs": [
        {
          "output_type": "stream",
          "name": "stdout",
          "text": [
            "Filtered data has been saved to: /content/drive/MyDrive/Colab Notebooks/cmpe540/final-project/data/processed/filtered_flight.csv\n"
          ]
        }
      ]
    }
  ]
}