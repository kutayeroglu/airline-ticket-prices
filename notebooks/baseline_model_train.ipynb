{
  "cells": [
    {
      "cell_type": "code",
      "execution_count": 2,
      "metadata": {
        "colab": {
          "base_uri": "https://localhost:8080/"
        },
        "id": "2xtDicB_xg9U",
        "outputId": "338d425f-b40f-4c7b-c472-c402c0ab58e9"
      },
      "outputs": [
        {
          "name": "stdout",
          "output_type": "stream",
          "text": [
            "Mounted at /content/drive\n"
          ]
        }
      ],
      "source": [
        "from google.colab import drive\n",
        "drive_root = '/content/drive'\n",
        "drive.mount(drive_root, force_remount=True)"
      ]
    },
    {
      "cell_type": "code",
      "execution_count": 3,
      "metadata": {
        "id": "Z2WVP8aDxmSS"
      },
      "outputs": [],
      "source": [
        "import sys\n",
        "import os\n",
        "\n",
        "project_root = os.path.join(drive_root, 'MyDrive/Colab Notebooks/cmpe540/final-project')\n",
        "source_root = os.path.join(project_root, 'src')\n",
        "sys.path.append(source_root)\n",
        "data_folder_path = os.path.join(project_root, 'data')\n",
        "raw_data_folder_path = os.path.join(data_folder_path, 'raw')\n",
        "processed_data_folder_path = os.path.join(data_folder_path, 'processed')\n",
        "training_data_path = os.path.join(processed_data_folder_path, \"training_data\")"
      ]
    },
    {
      "cell_type": "code",
      "execution_count": 4,
      "metadata": {
        "id": "UG-pGKSdx0_C"
      },
      "outputs": [],
      "source": [
        "import pandas as pd\n",
        "import numpy as np\n",
        "\n",
        "np.random.seed(42)\n",
        "\n",
        "# Load training data\n",
        "flight_vector_path = os.path.join(training_data_path, \"flight_vector.npy\")\n",
        "targets_path = os.path.join(training_data_path, \"targets_vector.npy\")\n",
        "\n",
        "flight_vectors = np.load(flight_vector_path, allow_pickle=True)\n",
        "targets_vector = np.load(targets_path, allow_pickle=True)"
      ]
    },
    {
      "cell_type": "code",
      "execution_count": 5,
      "metadata": {
        "colab": {
          "base_uri": "https://localhost:8080/"
        },
        "id": "NXWm37mmjFAv",
        "outputId": "7d579510-73d4-4dea-8c7b-42bded880665"
      },
      "outputs": [
        {
          "name": "stdout",
          "output_type": "stream",
          "text": [
            "Training set shape: (25216, 36)\n",
            "Validation set shape: (6305, 36)\n",
            "Test set shape: (360, 36)\n",
            "Vectors saved!\n"
          ]
        }
      ],
      "source": [
        "# Determine the split index\n",
        "test_size = 360\n",
        "train_val_size = len(flight_vectors) - test_size\n",
        "\n",
        "# Split into training/validation and test sets\n",
        "train_val_vectors = flight_vectors[:train_val_size]\n",
        "test_vectors = flight_vectors[train_val_size:]\n",
        "\n",
        "train_val_targets = targets_vector[:train_val_size]\n",
        "test_targets = targets_vector[train_val_size:]\n",
        "\n",
        "from sklearn.model_selection import train_test_split\n",
        "train_vectors, val_vectors, train_targets, val_targets = train_test_split(\n",
        "    train_val_vectors,\n",
        "    train_val_targets,\n",
        "    test_size=0.2,\n",
        "    random_state=42,\n",
        "    shuffle=False\n",
        ")\n",
        "\n",
        "# Print shapes to verify\n",
        "print(\"Training set shape:\", train_vectors.shape)\n",
        "print(\"Validation set shape:\", val_vectors.shape)\n",
        "print(\"Test set shape:\", test_vectors.shape)\n",
        "\n",
        "#Save the data\n",
        "np.save(os.path.join(training_data_path, \"train_vectors.npy\"), train_vectors)\n",
        "np.save(os.path.join(training_data_path, \"val_vectors.npy\"), val_vectors)\n",
        "np.save(os.path.join(training_data_path, \"test_vectors.npy\"), test_vectors)\n",
        "\n",
        "np.save(os.path.join(training_data_path, \"train_targets.npy\"), train_targets)\n",
        "np.save(os.path.join(training_data_path, \"val_targets.npy\"), val_targets)\n",
        "np.save(os.path.join(training_data_path,\"test_targets.npy\"), test_targets)\n",
        "\n",
        "print(\"Vectors saved!\")"
      ]
    },
    {
      "cell_type": "code",
      "execution_count": 6,
      "metadata": {
        "id": "V8Yz2rLPpxRj"
      },
      "outputs": [],
      "source": [
        "import torch\n",
        "from torch.utils.data import TensorDataset, DataLoader\n",
        "\n",
        "# 1) Load the .npy files\n",
        "train_vectors = np.load(os.path.join(training_data_path, \"train_vectors.npy\"), allow_pickle=True)\n",
        "val_vectors = np.load(os.path.join(training_data_path, \"val_vectors.npy\"), allow_pickle=True)\n",
        "test_vectors = np.load(os.path.join(training_data_path, \"test_vectors.npy\"), allow_pickle=True)\n",
        "\n",
        "train_targets = np.load(os.path.join(training_data_path, \"train_targets.npy\"), allow_pickle=True)\n",
        "val_targets = np.load(os.path.join(training_data_path, \"val_targets.npy\"), allow_pickle=True)\n",
        "test_targets = np.load(os.path.join(training_data_path, \"test_targets.npy\"), allow_pickle=True)"
      ]
    },
    {
      "cell_type": "code",
      "execution_count": 7,
      "metadata": {
        "id": "wE3J2P63sM_i"
      },
      "outputs": [],
      "source": [
        "train_vectors = train_vectors.astype(float)\n",
        "val_vectors   = val_vectors.astype(float)\n",
        "test_vectors  = test_vectors.astype(float)"
      ]
    },
    {
      "cell_type": "code",
      "execution_count": 14,
      "metadata": {
        "id": "iReWqrbU-QZM"
      },
      "outputs": [],
      "source": [
        "from sklearn.ensemble import RandomForestRegressor\n",
        "\n",
        "# Create the regressor\n",
        "rf = RandomForestRegressor(\n",
        "    n_estimators=100,\n",
        "    random_state=42,\n",
        "    n_jobs=-1  # use all CPU cores for speed\n",
        ")\n",
        "\n",
        "# Fit on training data\n",
        "rf.fit(train_vectors, train_targets)\n",
        "\n",
        "# Evaluate on validation data\n",
        "test_predictions = rf.predict(test_vectors)\n"
      ]
    },
    {
      "cell_type": "code",
      "execution_count": 16,
      "metadata": {
        "colab": {
          "base_uri": "https://localhost:8080/"
        },
        "id": "O_wWH3CfAVgQ",
        "outputId": "81102650-9be1-4671-8288-2eaa2a7235a8"
      },
      "outputs": [
        {
          "name": "stdout",
          "output_type": "stream",
          "text": [
            "Validation RMSE: 45.0342\n"
          ]
        }
      ],
      "source": [
        "from sklearn.metrics import root_mean_squared_error\n",
        "\n",
        "val_mse = root_mean_squared_error(test_targets, test_predictions)\n",
        "\n",
        "print(f\"Test RMSE: {val_mse:.4f}\")\n"
      ]
    }
  ],
  "metadata": {
    "colab": {
      "machine_shape": "hm",
      "provenance": []
    },
    "kernelspec": {
      "display_name": "Python 3",
      "name": "python3"
    },
    "language_info": {
      "name": "python"
    }
  },
  "nbformat": 4,
  "nbformat_minor": 0
}
