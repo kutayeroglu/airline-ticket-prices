{
  "cells": [
    {
      "cell_type": "code",
      "execution_count": 1,
      "metadata": {
        "colab": {
          "base_uri": "https://localhost:8080/"
        },
        "id": "Ys7wsJmcC7ww",
        "outputId": "ff03f30e-f458-4ec7-90b6-956c4b8c9596"
      },
      "outputs": [
        {
          "name": "stdout",
          "output_type": "stream",
          "text": [
            "Drive already mounted at /content/drive; to attempt to forcibly remount, call drive.mount(\"/content/drive\", force_remount=True).\n"
          ]
        }
      ],
      "source": [
        "from google.colab import drive\n",
        "drive_root = '/content/drive'\n",
        "drive.mount(drive_root)"
      ]
    },
    {
      "cell_type": "code",
      "execution_count": 2,
      "metadata": {
        "id": "wZzpkm3NDFH5"
      },
      "outputs": [],
      "source": [
        "import sys\n",
        "import os\n",
        "\n",
        "project_root = os.path.join(drive_root, 'MyDrive/Colab Notebooks/cmpe540/final-project')\n",
        "source_root = os.path.join(project_root, 'src')\n",
        "sys.path.append(source_root)\n",
        "data_folder_path = os.path.join(project_root, 'data')\n",
        "raw_data_folder_path = os.path.join(data_folder_path, 'raw')\n",
        "processed_data_folder_path = os.path.join(data_folder_path, 'processed')"
      ]
    },
    {
      "cell_type": "code",
      "execution_count": 3,
      "metadata": {
        "id": "wuTFO3-3EMYo"
      },
      "outputs": [],
      "source": [
        "zip_file_path = raw_data_folder_path + \"flightprices.zip\"\n",
        "!curl -L -o \"{zip_file_path}\" https://www.kaggle.com/api/v1/datasets/download/dilwong/flightprices"
      ]
    },
    {
      "cell_type": "code",
      "execution_count": 10,
      "metadata": {
        "id": "g1rAEx67FGEq"
      },
      "outputs": [],
      "source": [
        "import zipfile\n",
        "\n",
        "with zipfile.ZipFile(zip_file_path, 'r') as zip_ref:\n",
        "    zip_ref.extractall(processed_data_folder_path)"
      ]
    },
    {
      "cell_type": "code",
      "execution_count": 4,
      "metadata": {
        "id": "7-bRQTZKIUEy"
      },
      "outputs": [],
      "source": [
        "import pandas as pd\n",
        "\n",
        "# Define flight data path\n",
        "flight_data_path = os.path.join(processed_data_folder_path, 'itineraries.csv')\n",
        "\n",
        "\n",
        "columns_to_keep = [\n",
        "    \"legId\",\n",
        "    \"searchDate\",\n",
        "    \"flightDate\",\n",
        "    \"startingAirport\",\n",
        "    \"destinationAirport\",\n",
        "    \"isBasicEconomy\",\n",
        "    \"isNonStop\",\n",
        "    \"baseFare\",\n",
        "    \"segmentsAirlineName\"\n",
        "]\n",
        "\n",
        "# Specify dtypes for the columns being loaded\n",
        "dtypes = {\n",
        "    \"legId\": \"object\",  # String-like unique identifier\n",
        "    \"searchDate\": \"object\",  # Dates can be parsed later as datetime\n",
        "    \"flightDate\": \"object\",  # Dates can be parsed later as datetime\n",
        "    \"startingAirport\": \"category\",  # Limited unique values\n",
        "    \"destinationAirport\": \"category\",  # Limited unique values\n",
        "    \"isBasicEconomy\": \"bool\",  # Boolean flag\n",
        "    \"isNonStop\": \"bool\",  # Boolean flag\n",
        "    \"baseFare\": \"float32\",  # Currency, floating point\n",
        "    \"segmentsAirlineName\": \"category\"  # Limited unique values\n",
        "}"
      ]
    },
    {
      "cell_type": "code",
      "execution_count": 5,
      "metadata": {
        "colab": {
          "base_uri": "https://localhost:8080/"
        },
        "id": "TwU2sHZnRFNZ",
        "outputId": "c91b717a-2c98-40c7-b2bb-d33f550c3255"
      },
      "outputs": [
        {
          "name": "stderr",
          "output_type": "stream",
          "text": [
            "Reading CSV:  61%|██████▏   | 19057283177/31091834438 [05:14<03:18, 60563696.21it/s]\n"
          ]
        }
      ],
      "source": [
        "from tqdm import tqdm\n",
        "\n",
        "# Initialize an empty list to store chunks\n",
        "chunks = []\n",
        "chunk_size = 10**6  # Number of rows per chunk\n",
        "\n",
        "# Read the CSV in chunks with a progress bar\n",
        "with tqdm(total=os.path.getsize(flight_data_path), desc=\"Reading CSV\") as pbar:\n",
        "    for chunk in pd.read_csv(flight_data_path, usecols=columns_to_keep, dtype=dtypes, chunksize=chunk_size):\n",
        "        chunks.append(chunk)\n",
        "        pbar.update(chunk.memory_usage(deep=True).sum())\n",
        "\n",
        "# Combine all chunks into a single DataFrame\n",
        "flight = pd.concat(chunks, ignore_index=True)"
      ]
    },
    {
      "cell_type": "code",
      "execution_count": 6,
      "metadata": {
        "colab": {
          "base_uri": "https://localhost:8080/"
        },
        "id": "HcLStCJeJzox",
        "outputId": "604cd896-1b49-43ab-b28d-6ba6e2b6b835"
      },
      "outputs": [
        {
          "name": "stderr",
          "output_type": "stream",
          "text": [
            "<ipython-input-6-94c4db49536c>:3: FutureWarning: The default of observed=False is deprecated and will be changed to True in a future version of pandas. Pass observed=False to retain current behavior or observed=True to adopt the future default and silence this warning.\n",
            "  flight.groupby(['startingAirport', 'destinationAirport'])\n"
          ]
        }
      ],
      "source": [
        "# Get origin - destination pairs with most data points\n",
        "top_pairs = (\n",
        "    flight.groupby(['startingAirport', 'destinationAirport'])\n",
        "    .size()\n",
        "    .reset_index(name='count')\n",
        "    .sort_values(by='count', ascending=False)\n",
        "    .head(5)\n",
        ")"
      ]
    },
    {
      "cell_type": "code",
      "execution_count": 7,
      "metadata": {
        "id": "HnIG5bH5J3Mv"
      },
      "outputs": [],
      "source": [
        "origin_ports = top_pairs['startingAirport'].tolist()\n",
        "destination_ports = top_pairs['destinationAirport'].tolist()\n",
        "\n",
        "# Initial filter to reduce size of dataframe\n",
        "filtered_flight = flight[flight['startingAirport'].isin(origin_ports) & flight['destinationAirport'].isin(destination_ports)]"
      ]
    },
    {
      "cell_type": "code",
      "execution_count": 9,
      "metadata": {
        "id": "OQ42nY23X76p"
      },
      "outputs": [],
      "source": [
        "top_pairs['route'] = top_pairs['startingAirport'].astype(str) + '-' + top_pairs['destinationAirport'].astype(str)"
      ]
    },
    {
      "cell_type": "code",
      "execution_count": 11,
      "metadata": {
        "id": "6JAG_icFclIZ"
      },
      "outputs": [],
      "source": [
        "top_routes = top_pairs['route'].tolist()"
      ]
    },
    {
      "cell_type": "code",
      "execution_count": 13,
      "metadata": {
        "colab": {
          "base_uri": "https://localhost:8080/"
        },
        "id": "eyI4WQDqb-YM",
        "outputId": "19de2e9f-0552-4a38-9318-3d656da762b9"
      },
      "outputs": [
        {
          "name": "stderr",
          "output_type": "stream",
          "text": [
            "<ipython-input-13-ffd3046dd852>:1: SettingWithCopyWarning: \n",
            "A value is trying to be set on a copy of a slice from a DataFrame.\n",
            "Try using .loc[row_indexer,col_indexer] = value instead\n",
            "\n",
            "See the caveats in the documentation: https://pandas.pydata.org/pandas-docs/stable/user_guide/indexing.html#returning-a-view-versus-a-copy\n",
            "  filtered_flight['route'] = filtered_flight['startingAirport'].astype(str) + '-' + filtered_flight['destinationAirport'].astype(str)\n"
          ]
        }
      ],
      "source": [
        "filtered_flight['route'] = filtered_flight['startingAirport'].astype(str) + '-' + filtered_flight['destinationAirport'].astype(str)"
      ]
    },
    {
      "cell_type": "code",
      "execution_count": 15,
      "metadata": {
        "id": "mR6g9KSxcyPZ"
      },
      "outputs": [],
      "source": [
        "filtered_flight = filtered_flight[filtered_flight['route'].isin(top_routes)]"
      ]
    },
    {
      "cell_type": "code",
      "execution_count": 19,
      "metadata": {
        "id": "g0vfpzLZdEih"
      },
      "outputs": [],
      "source": [
        "# Define the output file path\n",
        "output_file_path = os.path.join(processed_data_folder_path, \"filtered_flight.csv\")"
      ]
    },
    {
      "cell_type": "code",
      "execution_count": 21,
      "metadata": {
        "colab": {
          "base_uri": "https://localhost:8080/"
        },
        "id": "ynb65J0BTZsq",
        "outputId": "a3b46b95-e97a-4772-f67c-643393700547"
      },
      "outputs": [
        {
          "name": "stdout",
          "output_type": "stream",
          "text": [
            "Filtered data has been saved to: /content/drive/MyDrive/Colab Notebooks/cmpe540/final-project/data/processed/filtered_flight.csv\n"
          ]
        }
      ],
      "source": [
        "# Write the filtered DataFrame to a CSV file\n",
        "filtered_flight.to_csv(output_file_path, index=False)\n",
        "\n",
        "print(f\"Filtered data has been saved to: {output_file_path}\")"
      ]
    }
  ],
  "metadata": {
    "colab": {
      "machine_shape": "hm",
      "provenance": []
    },
    "kernelspec": {
      "display_name": "Python 3",
      "name": "python3"
    },
    "language_info": {
      "name": "python"
    }
  },
  "nbformat": 4,
  "nbformat_minor": 0
}
